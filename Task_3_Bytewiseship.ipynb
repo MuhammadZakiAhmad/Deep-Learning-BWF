{
  "nbformat": 4,
  "nbformat_minor": 0,
  "metadata": {
    "colab": {
      "provenance": []
    },
    "kernelspec": {
      "name": "python3",
      "display_name": "Python 3"
    },
    "language_info": {
      "name": "python"
    }
  },
  "cells": [
    {
      "cell_type": "markdown",
      "source": [
        "<h1> <font color=green>Bytewise Deep Learning Bytewiseship</font> </h1>"
      ],
      "metadata": {
        "id": "bIysRuy19yep"
      }
    },
    {
      "cell_type": "markdown",
      "source": [
        "<h2> <font color=green>Task 3</font> </h2>"
      ],
      "metadata": {
        "id": "DwFjNwM49TQh"
      }
    },
    {
      "cell_type": "code",
      "execution_count": 3,
      "metadata": {
        "colab": {
          "base_uri": "https://localhost:8080/"
        },
        "id": "uIora9rw7uL1",
        "outputId": "73938b72-c090-4e82-d12d-7403c3043539"
      },
      "outputs": [
        {
          "output_type": "stream",
          "name": "stdout",
          "text": [
            "Hello Eric, would you like to learn some Python today?\n"
          ]
        }
      ],
      "source": [
        "name = \"Eric\"\n",
        "print(\"Hello \" + name + \", would you like to learn some Python today?\")\n"
      ]
    },
    {
      "cell_type": "code",
      "source": [
        "name = \"John Smith\"\n",
        "print(name.lower())\n",
        "print(name.upper())\n",
        "print(name.title())\n",
        "\n"
      ],
      "metadata": {
        "colab": {
          "base_uri": "https://localhost:8080/"
        },
        "id": "no2_KKyU70U7",
        "outputId": "efd8172a-ab79-4846-c9c5-7bd134f25ed1"
      },
      "execution_count": 4,
      "outputs": [
        {
          "output_type": "stream",
          "name": "stdout",
          "text": [
            "john smith\n",
            "JOHN SMITH\n",
            "John Smith\n"
          ]
        }
      ]
    },
    {
      "cell_type": "code",
      "source": [
        "quote = 'Albert Einstein once said, \"A person who never made a mistake never tried anything new.\"'\n",
        "print(quote)\n"
      ],
      "metadata": {
        "colab": {
          "base_uri": "https://localhost:8080/"
        },
        "id": "m9bX7nL88Cha",
        "outputId": "739b58bc-c4a7-454e-f8e6-ac1f328af3ff"
      },
      "execution_count": 5,
      "outputs": [
        {
          "output_type": "stream",
          "name": "stdout",
          "text": [
            "Albert Einstein once said, \"A person who never made a mistake never tried anything new.\"\n"
          ]
        }
      ]
    },
    {
      "cell_type": "code",
      "source": [
        "name = \"\\t  John Smith\\n\"\n",
        "print(name)\n",
        "print(name.lstrip())\n",
        "print(name.rstrip())\n",
        "print(name.strip())\n"
      ],
      "metadata": {
        "colab": {
          "base_uri": "https://localhost:8080/"
        },
        "id": "_xvqpAEP8hOK",
        "outputId": "fc05a4cd-0692-4241-b8e4-2db33a572a53"
      },
      "execution_count": 6,
      "outputs": [
        {
          "output_type": "stream",
          "name": "stdout",
          "text": [
            "\t  John Smith\n",
            "\n",
            "John Smith\n",
            "\n",
            "\t  John Smith\n",
            "John Smith\n"
          ]
        }
      ]
    },
    {
      "cell_type": "code",
      "source": [
        "print(5 + 3)\n",
        "print(10 - 2)\n",
        "print(4 * 2)\n",
        "print(16 / 2)\n"
      ],
      "metadata": {
        "colab": {
          "base_uri": "https://localhost:8080/"
        },
        "id": "GZV750l78i_k",
        "outputId": "bfd742aa-3297-411a-9355-748cc494fa45"
      },
      "execution_count": 7,
      "outputs": [
        {
          "output_type": "stream",
          "name": "stdout",
          "text": [
            "8\n",
            "8\n",
            "8\n",
            "8.0\n"
          ]
        }
      ]
    },
    {
      "cell_type": "code",
      "source": [
        "favorite_number = 8\n",
        "message = \"My favorite number is \" + str(favorite_number) + \".\"\n",
        "print(message)\n"
      ],
      "metadata": {
        "colab": {
          "base_uri": "https://localhost:8080/"
        },
        "id": "BO9Im2OB89jc",
        "outputId": "edb9efce-3899-44ed-b5bb-f98073e3b7a9"
      },
      "execution_count": 8,
      "outputs": [
        {
          "output_type": "stream",
          "name": "stdout",
          "text": [
            "My favorite number is 8.\n"
          ]
        }
      ]
    },
    {
      "cell_type": "code",
      "source": [],
      "metadata": {
        "id": "Xsb_BzLu8_3H"
      },
      "execution_count": null,
      "outputs": []
    }
  ]
}