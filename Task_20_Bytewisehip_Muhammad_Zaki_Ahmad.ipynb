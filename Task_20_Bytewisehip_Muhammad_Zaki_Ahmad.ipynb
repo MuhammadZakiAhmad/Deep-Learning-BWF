{
  "nbformat": 4,
  "nbformat_minor": 0,
  "metadata": {
    "colab": {
      "provenance": []
    },
    "kernelspec": {
      "name": "python3",
      "display_name": "Python 3"
    },
    "language_info": {
      "name": "python"
    }
  },
  "cells": [
    {
      "cell_type": "markdown",
      "source": [
        "Movies Reviews Project - Deep Learning with Python (Francocis Chollet)"
      ],
      "metadata": {
        "id": "_DpnJHanqDro"
      }
    },
    {
      "cell_type": "code",
      "execution_count": 5,
      "metadata": {
        "id": "3sHFki6_pRVR"
      },
      "outputs": [],
      "source": [
        "from keras.datasets import imdb\n",
        "from keras import models\n",
        "from keras import layers\n",
        "import numpy as np"
      ]
    },
    {
      "cell_type": "code",
      "source": [
        "# Load the dataset\n",
        "(train_data, train_labels), (test_data, test_labels) = imdb.load_data(num_words=10000)"
      ],
      "metadata": {
        "colab": {
          "base_uri": "https://localhost:8080/"
        },
        "id": "UoafE6gFqUpt",
        "outputId": "aeb168d7-55e7-468a-8470-4161e6b09ba1"
      },
      "execution_count": 2,
      "outputs": [
        {
          "output_type": "stream",
          "name": "stdout",
          "text": [
            "Downloading data from https://storage.googleapis.com/tensorflow/tf-keras-datasets/imdb.npz\n",
            "17464789/17464789 [==============================] - 0s 0us/step\n"
          ]
        }
      ]
    },
    {
      "cell_type": "code",
      "source": [
        "# Preprocess the data\n",
        "def vectorize_sequences(sequences, dimension=10000):\n",
        "    results = np.zeros((len(sequences), dimension))\n",
        "    for i, sequence in enumerate(sequences):\n",
        "        results[i, sequence] = 1.\n",
        "    return results\n",
        "\n",
        "x_train = vectorize_sequences(train_data)\n",
        "x_test = vectorize_sequences(test_data)\n",
        "y_train = np.asarray(train_labels).astype('float32')\n",
        "y_test = np.asarray(test_labels).astype('float32')"
      ],
      "metadata": {
        "id": "HFXh1MIQqbpN"
      },
      "execution_count": 6,
      "outputs": []
    },
    {
      "cell_type": "code",
      "source": [
        "# Define the neural network architecture\n",
        "model = models.Sequential()\n",
        "model.add(layers.Dense(16, activation='relu', input_shape=(10000,)))\n",
        "model.add(layers.Dense(16, activation='relu'))\n",
        "model.add(layers.Dense(1, activation='sigmoid'))\n",
        "\n",
        "# Compile the model with a binary crossentropy loss function and rmsprop optimizer\n",
        "model.compile(optimizer='rmsprop',\n",
        "              loss='binary_crossentropy',\n",
        "              metrics=['accuracy'])"
      ],
      "metadata": {
        "id": "QCNJV9FIqeVE"
      },
      "execution_count": 7,
      "outputs": []
    },
    {
      "cell_type": "code",
      "source": [
        "# Train the model\n",
        "history = model.fit(x_train, y_train,\n",
        "                    epochs=20,\n",
        "                    batch_size=512,\n",
        "                    validation_data=(x_test, y_test))\n",
        "\n",
        "# Evaluate the model on the test data\n",
        "results = model.evaluate(x_test, y_test)\n",
        "print(results)"
      ],
      "metadata": {
        "colab": {
          "base_uri": "https://localhost:8080/"
        },
        "id": "uhVwZzhEqgz4",
        "outputId": "dcc3d898-9a2c-469d-b3c6-2ab11ce05676"
      },
      "execution_count": 8,
      "outputs": [
        {
          "output_type": "stream",
          "name": "stdout",
          "text": [
            "Epoch 1/20\n",
            "49/49 [==============================] - 4s 74ms/step - loss: 0.4423 - accuracy: 0.8136 - val_loss: 0.3387 - val_accuracy: 0.8711\n",
            "Epoch 2/20\n",
            "49/49 [==============================] - 2s 40ms/step - loss: 0.2567 - accuracy: 0.9084 - val_loss: 0.3105 - val_accuracy: 0.8716\n",
            "Epoch 3/20\n",
            "49/49 [==============================] - 2s 40ms/step - loss: 0.2041 - accuracy: 0.9265 - val_loss: 0.3101 - val_accuracy: 0.8746\n",
            "Epoch 4/20\n",
            "49/49 [==============================] - 3s 61ms/step - loss: 0.1753 - accuracy: 0.9369 - val_loss: 0.2933 - val_accuracy: 0.8834\n",
            "Epoch 5/20\n",
            "49/49 [==============================] - 2s 43ms/step - loss: 0.1505 - accuracy: 0.9465 - val_loss: 0.3695 - val_accuracy: 0.8608\n",
            "Epoch 6/20\n",
            "49/49 [==============================] - 2s 40ms/step - loss: 0.1342 - accuracy: 0.9514 - val_loss: 0.3284 - val_accuracy: 0.8778\n",
            "Epoch 7/20\n",
            "49/49 [==============================] - 3s 63ms/step - loss: 0.1180 - accuracy: 0.9592 - val_loss: 0.3468 - val_accuracy: 0.8748\n",
            "Epoch 8/20\n",
            "49/49 [==============================] - 2s 44ms/step - loss: 0.1079 - accuracy: 0.9630 - val_loss: 0.3737 - val_accuracy: 0.8688\n",
            "Epoch 9/20\n",
            "49/49 [==============================] - 3s 56ms/step - loss: 0.0939 - accuracy: 0.9685 - val_loss: 0.3879 - val_accuracy: 0.8697\n",
            "Epoch 10/20\n",
            "49/49 [==============================] - 2s 47ms/step - loss: 0.0831 - accuracy: 0.9737 - val_loss: 0.4718 - val_accuracy: 0.8535\n",
            "Epoch 11/20\n",
            "49/49 [==============================] - 3s 55ms/step - loss: 0.0732 - accuracy: 0.9772 - val_loss: 0.4392 - val_accuracy: 0.8660\n",
            "Epoch 12/20\n",
            "49/49 [==============================] - 2s 43ms/step - loss: 0.0632 - accuracy: 0.9807 - val_loss: 0.5702 - val_accuracy: 0.8474\n",
            "Epoch 13/20\n",
            "49/49 [==============================] - 2s 42ms/step - loss: 0.0567 - accuracy: 0.9833 - val_loss: 0.5649 - val_accuracy: 0.8486\n",
            "Epoch 14/20\n",
            "49/49 [==============================] - 2s 41ms/step - loss: 0.0498 - accuracy: 0.9851 - val_loss: 0.5141 - val_accuracy: 0.8615\n",
            "Epoch 15/20\n",
            "49/49 [==============================] - 3s 63ms/step - loss: 0.0419 - accuracy: 0.9882 - val_loss: 0.6047 - val_accuracy: 0.8526\n",
            "Epoch 16/20\n",
            "49/49 [==============================] - 2s 40ms/step - loss: 0.0343 - accuracy: 0.9915 - val_loss: 0.5828 - val_accuracy: 0.8582\n",
            "Epoch 17/20\n",
            "49/49 [==============================] - 2s 41ms/step - loss: 0.0339 - accuracy: 0.9906 - val_loss: 0.6019 - val_accuracy: 0.8578\n",
            "Epoch 18/20\n",
            "49/49 [==============================] - 2s 41ms/step - loss: 0.0259 - accuracy: 0.9938 - val_loss: 0.6369 - val_accuracy: 0.8568\n",
            "Epoch 19/20\n",
            "49/49 [==============================] - 2s 42ms/step - loss: 0.0279 - accuracy: 0.9919 - val_loss: 0.6694 - val_accuracy: 0.8536\n",
            "Epoch 20/20\n",
            "49/49 [==============================] - 2s 41ms/step - loss: 0.0220 - accuracy: 0.9940 - val_loss: 0.6782 - val_accuracy: 0.8565\n",
            "782/782 [==============================] - 2s 3ms/step - loss: 0.6782 - accuracy: 0.8565\n",
            "[0.6781763434410095, 0.8564800024032593]\n"
          ]
        }
      ]
    },
    {
      "cell_type": "markdown",
      "source": [
        "Bouston House Price Prediction - Deep learning with Python( Francocis Chollet)"
      ],
      "metadata": {
        "id": "jg34_XlmssfV"
      }
    },
    {
      "cell_type": "code",
      "source": [
        "from keras.datasets import boston_housing\n",
        "from keras import models\n",
        "from keras import layers\n",
        "import numpy as np"
      ],
      "metadata": {
        "id": "YrE-cVJNqzbO"
      },
      "execution_count": 10,
      "outputs": []
    },
    {
      "cell_type": "code",
      "source": [
        "# Load the data\n",
        "(train_data, train_targets), (test_data, test_targets) = boston_housing.load_data()"
      ],
      "metadata": {
        "colab": {
          "base_uri": "https://localhost:8080/"
        },
        "id": "oYaHfqDSr0x5",
        "outputId": "626dc1bb-1c94-4c8e-fe5b-9c466ddd8854"
      },
      "execution_count": 11,
      "outputs": [
        {
          "output_type": "stream",
          "name": "stdout",
          "text": [
            "Downloading data from https://storage.googleapis.com/tensorflow/tf-keras-datasets/boston_housing.npz\n",
            "57026/57026 [==============================] - 0s 0us/step\n"
          ]
        }
      ]
    },
    {
      "cell_type": "code",
      "source": [
        "# Normalize the data by subtracting the mean and dividing by the standard deviation\n",
        "mean = train_data.mean(axis=0)\n",
        "std = train_data.std(axis=0)\n",
        "train_data -= mean\n",
        "train_data /= std\n",
        "test_data -= mean\n",
        "test_data /= std"
      ],
      "metadata": {
        "id": "YDWUEDhvtKLO"
      },
      "execution_count": 12,
      "outputs": []
    },
    {
      "cell_type": "code",
      "source": [
        "# Define the neural network architecture\n",
        "def build_model():\n",
        "    model = models.Sequential()\n",
        "    model.add(layers.Dense(64, activation='relu', input_shape=(train_data.shape[1],)))\n",
        "    model.add(layers.Dense(64, activation='relu'))\n",
        "    model.add(layers.Dense(1))\n",
        "    model.compile(optimizer='rmsprop', loss='mse', metrics=['mae'])\n",
        "    return model"
      ],
      "metadata": {
        "id": "G9BEy_72tM1V"
      },
      "execution_count": 13,
      "outputs": []
    },
    {
      "cell_type": "code",
      "source": [
        "# Compiling the model\n",
        "model.compile(optimizer='rmsprop', loss='mse', metrics=['mae'])"
      ],
      "metadata": {
        "id": "b8S5WaPQtOx3"
      },
      "execution_count": 14,
      "outputs": []
    },
    {
      "cell_type": "code",
      "source": [
        "\n",
        "# Evaluating the model on the test data\n",
        "test_mse_score, test_mae_score = model.evaluate(test_data, test_targets)\n",
        "\n",
        "print('Test MAE:', test_mae_score)\n"
      ],
      "metadata": {
        "colab": {
          "base_uri": "https://localhost:8080/"
        },
        "id": "cx8zOWBcuJDY",
        "outputId": "1bed1b69-2a58-45ba-af50-a4b60381ee95"
      },
      "execution_count": 16,
      "outputs": [
        {
          "output_type": "stream",
          "name": "stdout",
          "text": [
            "Epoch 1/100\n",
            "21/21 [==============================] - 1s 12ms/step - loss: 518.7319 - mae: 20.8569 - val_loss: 523.3784 - val_mae: 21.0052\n",
            "Epoch 2/100\n",
            "21/21 [==============================] - 0s 5ms/step - loss: 400.9323 - mae: 17.9080 - val_loss: 385.1029 - val_mae: 17.6404\n",
            "Epoch 3/100\n",
            "21/21 [==============================] - 0s 7ms/step - loss: 269.3322 - mae: 14.1616 - val_loss: 238.8140 - val_mae: 13.2826\n",
            "Epoch 4/100\n",
            "21/21 [==============================] - 0s 6ms/step - loss: 149.3169 - mae: 9.9496 - val_loss: 121.5316 - val_mae: 8.6060\n",
            "Epoch 5/100\n",
            "21/21 [==============================] - 0s 5ms/step - loss: 77.8495 - mae: 6.7408 - val_loss: 73.2077 - val_mae: 6.3811\n",
            "Epoch 6/100\n",
            "21/21 [==============================] - 0s 5ms/step - loss: 51.2423 - mae: 5.2830 - val_loss: 48.7024 - val_mae: 5.1039\n",
            "Epoch 7/100\n",
            "21/21 [==============================] - 0s 5ms/step - loss: 38.6323 - mae: 4.4578 - val_loss: 36.1571 - val_mae: 4.4730\n",
            "Epoch 8/100\n",
            "21/21 [==============================] - 0s 6ms/step - loss: 31.2116 - mae: 3.8129 - val_loss: 29.2197 - val_mae: 4.0240\n",
            "Epoch 9/100\n",
            "21/21 [==============================] - 0s 5ms/step - loss: 27.3845 - mae: 3.5216 - val_loss: 27.0707 - val_mae: 3.7323\n",
            "Epoch 10/100\n",
            "21/21 [==============================] - 0s 5ms/step - loss: 24.4345 - mae: 3.3136 - val_loss: 24.7272 - val_mae: 3.6037\n",
            "Epoch 11/100\n",
            "21/21 [==============================] - 0s 5ms/step - loss: 22.3188 - mae: 3.1419 - val_loss: 21.9047 - val_mae: 3.3790\n",
            "Epoch 12/100\n",
            "21/21 [==============================] - 0s 5ms/step - loss: 20.3092 - mae: 3.0293 - val_loss: 20.1728 - val_mae: 3.3450\n",
            "Epoch 13/100\n",
            "21/21 [==============================] - 0s 5ms/step - loss: 18.6476 - mae: 2.9649 - val_loss: 19.6869 - val_mae: 3.2251\n",
            "Epoch 14/100\n",
            "21/21 [==============================] - 0s 6ms/step - loss: 17.4091 - mae: 2.7574 - val_loss: 17.9098 - val_mae: 3.1854\n",
            "Epoch 15/100\n",
            "21/21 [==============================] - 0s 5ms/step - loss: 16.3219 - mae: 2.7182 - val_loss: 17.4239 - val_mae: 3.1905\n",
            "Epoch 16/100\n",
            "21/21 [==============================] - 0s 5ms/step - loss: 15.3234 - mae: 2.6191 - val_loss: 15.9744 - val_mae: 2.9169\n",
            "Epoch 17/100\n",
            "21/21 [==============================] - 0s 6ms/step - loss: 14.5569 - mae: 2.5699 - val_loss: 15.9907 - val_mae: 2.8934\n",
            "Epoch 18/100\n",
            "21/21 [==============================] - 0s 5ms/step - loss: 13.8183 - mae: 2.4907 - val_loss: 14.9509 - val_mae: 2.9054\n",
            "Epoch 19/100\n",
            "21/21 [==============================] - 0s 6ms/step - loss: 13.1693 - mae: 2.4420 - val_loss: 14.9167 - val_mae: 2.9987\n",
            "Epoch 20/100\n",
            "21/21 [==============================] - 0s 6ms/step - loss: 12.5986 - mae: 2.3771 - val_loss: 14.1467 - val_mae: 2.8890\n",
            "Epoch 21/100\n",
            "21/21 [==============================] - 0s 5ms/step - loss: 12.3593 - mae: 2.3189 - val_loss: 14.6203 - val_mae: 2.9242\n",
            "Epoch 22/100\n",
            "21/21 [==============================] - 0s 6ms/step - loss: 11.4839 - mae: 2.3082 - val_loss: 14.1143 - val_mae: 2.8765\n",
            "Epoch 23/100\n",
            "21/21 [==============================] - 0s 6ms/step - loss: 11.4382 - mae: 2.2442 - val_loss: 13.6759 - val_mae: 2.8364\n",
            "Epoch 24/100\n",
            "21/21 [==============================] - 0s 5ms/step - loss: 10.8282 - mae: 2.2109 - val_loss: 14.3124 - val_mae: 2.7806\n",
            "Epoch 25/100\n",
            "21/21 [==============================] - 0s 6ms/step - loss: 10.5327 - mae: 2.2101 - val_loss: 13.9841 - val_mae: 2.8264\n",
            "Epoch 26/100\n",
            "21/21 [==============================] - 0s 5ms/step - loss: 10.5066 - mae: 2.1761 - val_loss: 13.6049 - val_mae: 2.8124\n",
            "Epoch 27/100\n",
            "21/21 [==============================] - 0s 4ms/step - loss: 10.2333 - mae: 2.1628 - val_loss: 13.6604 - val_mae: 2.6862\n",
            "Epoch 28/100\n",
            "21/21 [==============================] - 0s 4ms/step - loss: 10.1171 - mae: 2.0986 - val_loss: 13.6225 - val_mae: 2.7337\n",
            "Epoch 29/100\n",
            "21/21 [==============================] - 0s 5ms/step - loss: 9.7813 - mae: 2.0915 - val_loss: 14.1935 - val_mae: 2.7808\n",
            "Epoch 30/100\n",
            "21/21 [==============================] - 0s 4ms/step - loss: 9.5832 - mae: 2.0487 - val_loss: 13.6871 - val_mae: 2.7640\n",
            "Epoch 31/100\n",
            "21/21 [==============================] - 0s 4ms/step - loss: 9.3965 - mae: 2.0451 - val_loss: 13.5561 - val_mae: 2.7821\n",
            "Epoch 32/100\n",
            "21/21 [==============================] - 0s 3ms/step - loss: 9.5340 - mae: 2.0557 - val_loss: 13.6507 - val_mae: 2.6888\n",
            "Epoch 33/100\n",
            "21/21 [==============================] - 0s 3ms/step - loss: 9.1173 - mae: 2.0395 - val_loss: 13.9920 - val_mae: 2.7867\n",
            "Epoch 34/100\n",
            "21/21 [==============================] - 0s 4ms/step - loss: 9.0493 - mae: 2.0130 - val_loss: 14.8384 - val_mae: 2.6863\n",
            "Epoch 35/100\n",
            "21/21 [==============================] - 0s 4ms/step - loss: 8.9777 - mae: 2.0373 - val_loss: 13.6542 - val_mae: 2.7075\n",
            "Epoch 36/100\n",
            "21/21 [==============================] - 0s 4ms/step - loss: 8.8280 - mae: 1.9670 - val_loss: 13.6383 - val_mae: 2.7166\n",
            "Epoch 37/100\n",
            "21/21 [==============================] - 0s 4ms/step - loss: 8.5445 - mae: 1.9533 - val_loss: 15.4673 - val_mae: 2.5777\n",
            "Epoch 38/100\n",
            "21/21 [==============================] - 0s 4ms/step - loss: 8.6771 - mae: 2.0144 - val_loss: 13.5157 - val_mae: 2.5982\n",
            "Epoch 39/100\n",
            "21/21 [==============================] - 0s 4ms/step - loss: 8.5826 - mae: 1.9561 - val_loss: 13.7456 - val_mae: 2.5943\n",
            "Epoch 40/100\n",
            "21/21 [==============================] - 0s 5ms/step - loss: 8.3878 - mae: 1.9200 - val_loss: 14.7772 - val_mae: 2.7625\n",
            "Epoch 41/100\n",
            "21/21 [==============================] - 0s 3ms/step - loss: 8.2771 - mae: 1.9298 - val_loss: 14.3046 - val_mae: 2.6201\n",
            "Epoch 42/100\n",
            "21/21 [==============================] - 0s 4ms/step - loss: 8.0687 - mae: 1.9109 - val_loss: 14.8015 - val_mae: 2.6086\n",
            "Epoch 43/100\n",
            "21/21 [==============================] - 0s 3ms/step - loss: 7.9246 - mae: 1.9160 - val_loss: 14.0675 - val_mae: 2.6258\n",
            "Epoch 44/100\n",
            "21/21 [==============================] - 0s 4ms/step - loss: 8.0606 - mae: 1.9155 - val_loss: 14.2952 - val_mae: 2.6017\n",
            "Epoch 45/100\n",
            "21/21 [==============================] - 0s 3ms/step - loss: 7.8567 - mae: 1.8840 - val_loss: 14.4010 - val_mae: 2.6669\n",
            "Epoch 46/100\n",
            "21/21 [==============================] - 0s 4ms/step - loss: 7.8823 - mae: 1.8794 - val_loss: 15.3628 - val_mae: 2.7968\n",
            "Epoch 47/100\n",
            "21/21 [==============================] - 0s 4ms/step - loss: 7.6326 - mae: 1.8782 - val_loss: 15.2016 - val_mae: 2.8013\n",
            "Epoch 48/100\n",
            "21/21 [==============================] - 0s 4ms/step - loss: 7.6868 - mae: 1.8829 - val_loss: 14.9191 - val_mae: 2.6181\n",
            "Epoch 49/100\n",
            "21/21 [==============================] - 0s 4ms/step - loss: 7.4034 - mae: 1.8777 - val_loss: 14.5249 - val_mae: 2.7041\n",
            "Epoch 50/100\n",
            "21/21 [==============================] - 0s 4ms/step - loss: 7.3357 - mae: 1.8245 - val_loss: 14.1098 - val_mae: 2.6765\n",
            "Epoch 51/100\n",
            "21/21 [==============================] - 0s 4ms/step - loss: 7.5055 - mae: 1.8555 - val_loss: 14.1104 - val_mae: 2.7081\n",
            "Epoch 52/100\n",
            "21/21 [==============================] - 0s 4ms/step - loss: 7.3401 - mae: 1.8187 - val_loss: 15.1403 - val_mae: 2.5493\n",
            "Epoch 53/100\n",
            "21/21 [==============================] - 0s 4ms/step - loss: 7.1846 - mae: 1.8074 - val_loss: 15.0663 - val_mae: 2.5371\n",
            "Epoch 54/100\n",
            "21/21 [==============================] - 0s 3ms/step - loss: 7.2311 - mae: 1.7825 - val_loss: 14.9879 - val_mae: 2.5371\n",
            "Epoch 55/100\n",
            "21/21 [==============================] - 0s 3ms/step - loss: 7.0339 - mae: 1.7844 - val_loss: 16.4601 - val_mae: 2.6975\n",
            "Epoch 56/100\n",
            "21/21 [==============================] - 0s 4ms/step - loss: 7.0594 - mae: 1.8234 - val_loss: 14.2367 - val_mae: 2.6100\n",
            "Epoch 57/100\n",
            "21/21 [==============================] - 0s 4ms/step - loss: 6.9018 - mae: 1.7697 - val_loss: 14.6003 - val_mae: 2.5837\n",
            "Epoch 58/100\n",
            "21/21 [==============================] - 0s 4ms/step - loss: 6.9107 - mae: 1.7841 - val_loss: 14.0110 - val_mae: 2.6393\n",
            "Epoch 59/100\n",
            "21/21 [==============================] - 0s 4ms/step - loss: 6.7835 - mae: 1.7674 - val_loss: 18.2284 - val_mae: 2.8792\n",
            "Epoch 60/100\n",
            "21/21 [==============================] - 0s 4ms/step - loss: 6.7863 - mae: 1.7699 - val_loss: 14.5038 - val_mae: 2.7720\n",
            "Epoch 61/100\n",
            "21/21 [==============================] - 0s 4ms/step - loss: 6.7679 - mae: 1.7611 - val_loss: 14.2121 - val_mae: 2.5671\n",
            "Epoch 62/100\n",
            "21/21 [==============================] - 0s 4ms/step - loss: 6.6465 - mae: 1.7350 - val_loss: 15.6174 - val_mae: 2.5575\n",
            "Epoch 63/100\n",
            "21/21 [==============================] - 0s 4ms/step - loss: 6.8755 - mae: 1.7051 - val_loss: 15.4503 - val_mae: 2.5297\n",
            "Epoch 64/100\n",
            "21/21 [==============================] - 0s 3ms/step - loss: 6.5733 - mae: 1.7317 - val_loss: 14.3323 - val_mae: 2.6375\n",
            "Epoch 65/100\n",
            "21/21 [==============================] - 0s 3ms/step - loss: 6.3833 - mae: 1.6928 - val_loss: 15.5442 - val_mae: 2.5810\n",
            "Epoch 66/100\n",
            "21/21 [==============================] - 0s 4ms/step - loss: 6.4720 - mae: 1.7055 - val_loss: 14.9486 - val_mae: 2.6093\n",
            "Epoch 67/100\n",
            "21/21 [==============================] - 0s 4ms/step - loss: 6.4018 - mae: 1.6818 - val_loss: 16.8847 - val_mae: 2.6266\n",
            "Epoch 68/100\n",
            "21/21 [==============================] - 0s 4ms/step - loss: 6.3248 - mae: 1.6975 - val_loss: 16.0398 - val_mae: 2.6080\n",
            "Epoch 69/100\n",
            "21/21 [==============================] - 0s 3ms/step - loss: 6.3936 - mae: 1.7019 - val_loss: 16.4640 - val_mae: 2.6828\n",
            "Epoch 70/100\n",
            "21/21 [==============================] - 0s 4ms/step - loss: 6.3371 - mae: 1.7166 - val_loss: 15.4722 - val_mae: 2.5424\n",
            "Epoch 71/100\n",
            "21/21 [==============================] - 0s 3ms/step - loss: 6.2689 - mae: 1.6654 - val_loss: 16.0897 - val_mae: 2.7215\n",
            "Epoch 72/100\n",
            "21/21 [==============================] - 0s 4ms/step - loss: 6.0573 - mae: 1.6897 - val_loss: 16.0030 - val_mae: 2.5571\n",
            "Epoch 73/100\n",
            "21/21 [==============================] - 0s 4ms/step - loss: 6.1260 - mae: 1.6772 - val_loss: 17.4402 - val_mae: 2.5895\n",
            "Epoch 74/100\n",
            "21/21 [==============================] - 0s 4ms/step - loss: 6.1606 - mae: 1.7009 - val_loss: 15.2283 - val_mae: 2.6563\n",
            "Epoch 75/100\n",
            "21/21 [==============================] - 0s 4ms/step - loss: 5.9999 - mae: 1.6263 - val_loss: 15.1061 - val_mae: 2.5907\n",
            "Epoch 76/100\n",
            "21/21 [==============================] - 0s 4ms/step - loss: 5.8739 - mae: 1.6024 - val_loss: 14.8888 - val_mae: 2.5597\n",
            "Epoch 77/100\n",
            "21/21 [==============================] - 0s 3ms/step - loss: 5.9229 - mae: 1.6601 - val_loss: 16.0253 - val_mae: 2.5429\n",
            "Epoch 78/100\n",
            "21/21 [==============================] - 0s 4ms/step - loss: 5.8845 - mae: 1.6698 - val_loss: 14.5413 - val_mae: 2.6512\n",
            "Epoch 79/100\n",
            "21/21 [==============================] - 0s 3ms/step - loss: 6.0062 - mae: 1.5964 - val_loss: 15.8898 - val_mae: 2.5862\n",
            "Epoch 80/100\n",
            "21/21 [==============================] - 0s 4ms/step - loss: 5.8512 - mae: 1.6375 - val_loss: 14.2019 - val_mae: 2.6314\n",
            "Epoch 81/100\n",
            "21/21 [==============================] - 0s 4ms/step - loss: 5.7220 - mae: 1.6056 - val_loss: 16.2117 - val_mae: 2.6100\n",
            "Epoch 82/100\n",
            "21/21 [==============================] - 0s 4ms/step - loss: 5.8829 - mae: 1.6136 - val_loss: 18.3598 - val_mae: 2.8764\n",
            "Epoch 83/100\n",
            "21/21 [==============================] - 0s 3ms/step - loss: 5.8645 - mae: 1.6497 - val_loss: 14.7233 - val_mae: 2.5401\n",
            "Epoch 84/100\n",
            "21/21 [==============================] - 0s 4ms/step - loss: 5.6880 - mae: 1.5852 - val_loss: 15.4528 - val_mae: 2.5309\n",
            "Epoch 85/100\n",
            "21/21 [==============================] - 0s 4ms/step - loss: 5.7150 - mae: 1.6203 - val_loss: 16.3646 - val_mae: 2.6140\n",
            "Epoch 86/100\n",
            "21/21 [==============================] - 0s 5ms/step - loss: 5.7766 - mae: 1.5799 - val_loss: 18.5480 - val_mae: 2.8538\n",
            "Epoch 87/100\n",
            "21/21 [==============================] - 0s 4ms/step - loss: 5.6800 - mae: 1.6095 - val_loss: 15.5606 - val_mae: 2.5324\n",
            "Epoch 88/100\n",
            "21/21 [==============================] - 0s 4ms/step - loss: 5.5439 - mae: 1.5672 - val_loss: 15.2565 - val_mae: 2.7599\n",
            "Epoch 89/100\n",
            "21/21 [==============================] - 0s 4ms/step - loss: 5.5933 - mae: 1.5753 - val_loss: 15.5039 - val_mae: 2.5868\n",
            "Epoch 90/100\n",
            "21/21 [==============================] - 0s 4ms/step - loss: 5.6062 - mae: 1.5729 - val_loss: 17.1862 - val_mae: 2.5874\n",
            "Epoch 91/100\n",
            "21/21 [==============================] - 0s 4ms/step - loss: 5.5225 - mae: 1.5445 - val_loss: 17.9067 - val_mae: 2.5867\n",
            "Epoch 92/100\n",
            "21/21 [==============================] - 0s 4ms/step - loss: 5.6049 - mae: 1.5638 - val_loss: 15.1283 - val_mae: 2.5448\n",
            "Epoch 93/100\n",
            "21/21 [==============================] - 0s 4ms/step - loss: 5.4731 - mae: 1.5460 - val_loss: 15.7273 - val_mae: 2.5122\n",
            "Epoch 94/100\n",
            "21/21 [==============================] - 0s 4ms/step - loss: 5.5080 - mae: 1.5485 - val_loss: 16.3389 - val_mae: 2.6065\n",
            "Epoch 95/100\n",
            "21/21 [==============================] - 0s 5ms/step - loss: 5.3278 - mae: 1.5468 - val_loss: 19.7720 - val_mae: 2.7688\n",
            "Epoch 96/100\n",
            "21/21 [==============================] - 0s 4ms/step - loss: 5.4070 - mae: 1.5823 - val_loss: 16.1244 - val_mae: 2.5780\n",
            "Epoch 97/100\n",
            "21/21 [==============================] - 0s 5ms/step - loss: 5.2993 - mae: 1.5387 - val_loss: 16.3600 - val_mae: 2.7704\n",
            "Epoch 98/100\n",
            "21/21 [==============================] - 0s 4ms/step - loss: 5.2786 - mae: 1.5037 - val_loss: 15.6100 - val_mae: 2.6023\n",
            "Epoch 99/100\n",
            "21/21 [==============================] - 0s 3ms/step - loss: 5.4663 - mae: 1.5302 - val_loss: 17.9026 - val_mae: 2.5929\n",
            "Epoch 100/100\n",
            "21/21 [==============================] - 0s 4ms/step - loss: 5.2819 - mae: 1.4655 - val_loss: 16.6293 - val_mae: 2.5517\n",
            "4/4 [==============================] - 0s 4ms/step - loss: 23.3075 - mae: 2.9397\n",
            "Test MAE: 2.9396655559539795\n"
          ]
        }
      ]
    },
    {
      "cell_type": "code",
      "source": [
        "import matplotlib.pyplot as plt\n",
        "\n",
        "# Plotting the training and validation loss\n",
        "loss = history.history['loss']\n",
        "val_loss = history.history['val_loss']\n",
        "epochs = range(1, len(loss) + 1)\n",
        "plt.plot(epochs, loss, 'bo', label='Training loss')\n",
        "plt.plot(epochs, val_loss, 'b', label='Validation loss')\n",
        "plt.title('Training and validation loss')\n",
        "plt.xlabel('Epochs')\n",
        "plt.ylabel('Loss')\n",
        "plt.legend()\n",
        "plt.show()\n",
        "\n",
        "# Plotting the training and validation MAE\n",
        "mae = history.history['mae']\n",
        "val_mae = history.history['val_mae']\n",
        "plt.plot(epochs, mae, 'bo', label='Training MAE')\n",
        "plt.plot(epochs, val_mae, 'b', label='Validation MAE')\n",
        "plt.title('Training and validation MAE')\n",
        "plt.xlabel('Epochs')\n",
        "plt.ylabel('MAE')\n",
        "plt.legend()\n",
        "plt.show()\n"
      ],
      "metadata": {
        "colab": {
          "base_uri": "https://localhost:8080/",
          "height": 927
        },
        "id": "-AaOBwDuuQoJ",
        "outputId": "75c128f7-e944-4dc5-9045-18c84dc4ade3"
      },
      "execution_count": 17,
      "outputs": [
        {
          "output_type": "display_data",
          "data": {
            "text/plain": [
              "<Figure size 640x480 with 1 Axes>"
            ],
            "image/png": "[encoded data removed]"
          },
          "metadata": {}
        },
        {
          "output_type": "display_data",
          "data": {
            "text/plain": [
              "<Figure size 640x480 with 1 Axes>"
            ],
            "image/png": "[encoded data removed]"
          },
          "metadata": {}
        }
      ]
    },
    {
      "cell_type": "code",
      "source": [],
      "metadata": {
        "id": "lIDqw8jGusyL"
      },
      "execution_count": null,
      "outputs": []
    }
  ]
}