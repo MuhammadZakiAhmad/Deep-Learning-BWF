{
  "nbformat": 4,
  "nbformat_minor": 0,
  "metadata": {
    "colab": {
      "provenance": []
    },
    "kernelspec": {
      "name": "python3",
      "display_name": "Python 3"
    },
    "language_info": {
      "name": "python"
    }
  },
  "cells": [
    {
      "cell_type": "markdown",
      "source": [
        "<h1> <font color=green>Deep Learning Bytewiseship</font> </h1>"
      ],
      "metadata": {
        "id": "1aHHrYXc_Vsf"
      }
    },
    {
      "cell_type": "markdown",
      "source": [
        "<h2> <font color=green>Task 6</font> </h2>"
      ],
      "metadata": {
        "id": "uKzm-1Dd_NUT"
      }
    },
    {
      "cell_type": "code",
      "source": [
        "person = {\n",
        "    'first_name': 'John',\n",
        "    'last_name': 'Doe',\n",
        "    'age': 30,\n",
        "    'city': 'New York'\n",
        "}\n",
        "\n",
        "print(\"First Name:\", person['first_name'])\n",
        "print(\"Last Name:\", person['last_name'])\n",
        "print(\"Age:\", person['age'])\n",
        "print(\"City:\", person['city'])\n"
      ],
      "metadata": {
        "colab": {
          "base_uri": "https://localhost:8080/"
        },
        "id": "ydYWwAnC_UYV",
        "outputId": "57110b9e-16b2-49b3-d43e-1398cfc2037f"
      },
      "execution_count": 13,
      "outputs": [
        {
          "output_type": "stream",
          "name": "stdout",
          "text": [
            "First Name: John\n",
            "Last Name: Doe\n",
            "Age: 30\n",
            "City: New York\n"
          ]
        }
      ]
    },
    {
      "cell_type": "code",
      "source": [
        "favorite_numbers = {\n",
        "    'John': 7,\n",
        "    'Jane': 42,\n",
        "    'Bob': 13,\n",
        "    'Alice': 27,\n",
        "    'David': 19\n",
        "}\n",
        "\n",
        "for name, number in favorite_numbers.items():\n",
        "    print(name + \"'s favorite number is:\", number)\n"
      ],
      "metadata": {
        "colab": {
          "base_uri": "https://localhost:8080/"
        },
        "id": "NPR3C09a_kQ7",
        "outputId": "e8724956-2817-40c0-b946-1e83396d1585"
      },
      "execution_count": 14,
      "outputs": [
        {
          "output_type": "stream",
          "name": "stdout",
          "text": [
            "John's favorite number is: 7\n",
            "Jane's favorite number is: 42\n",
            "Bob's favorite number is: 13\n",
            "Alice's favorite number is: 27\n",
            "David's favorite number is: 19\n"
          ]
        }
      ]
    },
    {
      "cell_type": "code",
      "source": [
        "glossary = {\n",
        "    'list': 'a collection of items in a particular order',\n",
        "    'tuple': 'an immutable list',\n",
        "    'dictionary': 'a collection of key-value pairs',\n",
        "    'set': 'a collection of unique elements',\n",
        "    'loop': 'a way to iterate over a sequence of items'\n",
        "}\n",
        "\n",
        "for word, meaning in glossary.items():\n",
        "    print(word.title() + \":\\n\" + meaning + \"\\n\")\n"
      ],
      "metadata": {
        "colab": {
          "base_uri": "https://localhost:8080/"
        },
        "id": "wo857Vgk_nlB",
        "outputId": "60cb25bf-ae50-4bef-efdc-79736d9e2f85"
      },
      "execution_count": 15,
      "outputs": [
        {
          "output_type": "stream",
          "name": "stdout",
          "text": [
            "List:\n",
            "a collection of items in a particular order\n",
            "\n",
            "Tuple:\n",
            "an immutable list\n",
            "\n",
            "Dictionary:\n",
            "a collection of key-value pairs\n",
            "\n",
            "Set:\n",
            "a collection of unique elements\n",
            "\n",
            "Loop:\n",
            "a way to iterate over a sequence of items\n",
            "\n"
          ]
        }
      ]
    },
    {
      "cell_type": "code",
      "source": [
        "glossary = {\n",
        "    'list': 'a collection of items in a particular order',\n",
        "    'tuple': 'an immutable list',\n",
        "    'dictionary': 'a collection of key-value pairs',\n",
        "    'set': 'a collection of unique elements',\n",
        "    'loop': 'a way to iterate over a sequence of items'\n",
        "}\n",
        "\n",
        "for word, meaning in glossary.items():\n",
        "    print(word.title() + \":\\n\" + meaning + \"\\n\")"
      ],
      "metadata": {
        "colab": {
          "base_uri": "https://localhost:8080/"
        },
        "id": "0-robxm7_qBW",
        "outputId": "b0486d28-b18e-45be-e5d9-aa243a2d4afd"
      },
      "execution_count": 16,
      "outputs": [
        {
          "output_type": "stream",
          "name": "stdout",
          "text": [
            "List:\n",
            "a collection of items in a particular order\n",
            "\n",
            "Tuple:\n",
            "an immutable list\n",
            "\n",
            "Dictionary:\n",
            "a collection of key-value pairs\n",
            "\n",
            "Set:\n",
            "a collection of unique elements\n",
            "\n",
            "Loop:\n",
            "a way to iterate over a sequence of items\n",
            "\n"
          ]
        }
      ]
    },
    {
      "cell_type": "code",
      "source": [
        "# adding more terms to the glossary\n",
        "glossary['function'] = 'a named block of code that performs a specific task'\n",
        "glossary['class'] = 'a blueprint for creating objects'\n",
        "glossary['module'] = 'a file containing Python code'\n",
        "glossary['exception'] = 'an error that occurs during the execution of a program'\n",
        "glossary['method'] = 'a function that belongs to an object'\n",
        "\n",
        "print(\"Updated Glossary:\")\n",
        "for word, meaning in glossary.items():\n",
        "    print(word.title() + \":\\n\" + meaning + \"\\n\")"
      ],
      "metadata": {
        "colab": {
          "base_uri": "https://localhost:8080/"
        },
        "id": "rY3S9vZuAziW",
        "outputId": "609dff37-f243-4e66-b439-63a96ac8b117"
      },
      "execution_count": 17,
      "outputs": [
        {
          "output_type": "stream",
          "name": "stdout",
          "text": [
            "Updated Glossary:\n",
            "List:\n",
            "a collection of items in a particular order\n",
            "\n",
            "Tuple:\n",
            "an immutable list\n",
            "\n",
            "Dictionary:\n",
            "a collection of key-value pairs\n",
            "\n",
            "Set:\n",
            "a collection of unique elements\n",
            "\n",
            "Loop:\n",
            "a way to iterate over a sequence of items\n",
            "\n",
            "Function:\n",
            "a named block of code that performs a specific task\n",
            "\n",
            "Class:\n",
            "a blueprint for creating objects\n",
            "\n",
            "Module:\n",
            "a file containing Python code\n",
            "\n",
            "Exception:\n",
            "an error that occurs during the execution of a program\n",
            "\n",
            "Method:\n",
            "a function that belongs to an object\n",
            "\n"
          ]
        }
      ]
    },
    {
      "cell_type": "code",
      "source": [
        "rivers = {\n",
        "    'nile': 'egypt',\n",
        "    'amazon': 'brazil',\n",
        "    'yangtze': 'china'\n",
        "}\n",
        "\n",
        "for river, country in rivers.items():\n",
        "    print(\"The \" + river.title() + \" runs through \" + country.title() + \".\")"
      ],
      "metadata": {
        "colab": {
          "base_uri": "https://localhost:8080/"
        },
        "id": "YTEqMFcrA23g",
        "outputId": "2634f471-cbe1-440f-8dc6-e19297e1004b"
      },
      "execution_count": 18,
      "outputs": [
        {
          "output_type": "stream",
          "name": "stdout",
          "text": [
            "The Nile runs through Egypt.\n",
            "The Amazon runs through Brazil.\n",
            "The Yangtze runs through China.\n"
          ]
        }
      ]
    },
    {
      "cell_type": "code",
      "source": [
        "print(\"\\nRivers:\")\n",
        "for river in rivers.keys():\n",
        "    print(\"- \" + river.title())"
      ],
      "metadata": {
        "colab": {
          "base_uri": "https://localhost:8080/"
        },
        "id": "cUn_Ys2tFnf0",
        "outputId": "7429cbe5-67dd-49ba-f290-5b1ed574da95"
      },
      "execution_count": 19,
      "outputs": [
        {
          "output_type": "stream",
          "name": "stdout",
          "text": [
            "\n",
            "Rivers:\n",
            "- Nile\n",
            "- Amazon\n",
            "- Yangtze\n"
          ]
        }
      ]
    },
    {
      "cell_type": "code",
      "source": [
        "print(\"\\nCountries:\")\n",
        "for country in rivers.values():\n",
        "    print(\"- \" + country.title())"
      ],
      "metadata": {
        "colab": {
          "base_uri": "https://localhost:8080/"
        },
        "id": "lwiwW1wMFpr7",
        "outputId": "7cfd1113-a378-4320-8ab5-d403ea00de0b"
      },
      "execution_count": 20,
      "outputs": [
        {
          "output_type": "stream",
          "name": "stdout",
          "text": [
            "\n",
            "Countries:\n",
            "- Egypt\n",
            "- Brazil\n",
            "- China\n"
          ]
        }
      ]
    },
    {
      "cell_type": "code",
      "source": [],
      "metadata": {
        "id": "rCPgv9FkFs86"
      },
      "execution_count": null,
      "outputs": []
    }
  ]
}