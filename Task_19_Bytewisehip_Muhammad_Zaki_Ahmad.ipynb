{
  "nbformat": 4,
  "nbformat_minor": 0,
  "metadata": {
    "colab": {
      "provenance": []
    },
    "kernelspec": {
      "name": "python3",
      "display_name": "Python 3"
    },
    "language_info": {
      "name": "python"
    }
  },
  "cells": [
    {
      "cell_type": "markdown",
      "source": [
        "Deep learning Basics\n",
        "\n",
        "Movie Reviews project from Francocis Chollet Book"
      ],
      "metadata": {
        "id": "_DpnJHanqDro"
      }
    },
    {
      "cell_type": "code",
      "execution_count": 5,
      "metadata": {
        "id": "3sHFki6_pRVR"
      },
      "outputs": [],
      "source": [
        "from keras.datasets import imdb\n",
        "from keras import models\n",
        "from keras import layers\n",
        "import numpy as np"
      ]
    },
    {
      "cell_type": "code",
      "source": [
        "# Load the dataset\n",
        "(train_data, train_labels), (test_data, test_labels) = imdb.load_data(num_words=10000)"
      ],
      "metadata": {
        "colab": {
          "base_uri": "https://localhost:8080/"
        },
        "id": "UoafE6gFqUpt",
        "outputId": "aeb168d7-55e7-468a-8470-4161e6b09ba1"
      },
      "execution_count": 2,
      "outputs": [
        {
          "output_type": "stream",
          "name": "stdout",
          "text": [
            "Downloading data from https://storage.googleapis.com/tensorflow/tf-keras-datasets/imdb.npz\n",
            "17464789/17464789 [==============================] - 0s 0us/step\n"
          ]
        }
      ]
    },
    {
      "cell_type": "code",
      "source": [
        "# Preprocess the data\n",
        "def vectorize_sequences(sequences, dimension=10000):\n",
        "    results = np.zeros((len(sequences), dimension))\n",
        "    for i, sequence in enumerate(sequences):\n",
        "        results[i, sequence] = 1.\n",
        "    return results\n",
        "\n",
        "x_train = vectorize_sequences(train_data)\n",
        "x_test = vectorize_sequences(test_data)\n",
        "y_train = np.asarray(train_labels).astype('float32')\n",
        "y_test = np.asarray(test_labels).astype('float32')"
      ],
      "metadata": {
        "id": "HFXh1MIQqbpN"
      },
      "execution_count": 6,
      "outputs": []
    },
    {
      "cell_type": "code",
      "source": [
        "# Define the neural network architecture\n",
        "model = models.Sequential()\n",
        "model.add(layers.Dense(16, activation='relu', input_shape=(10000,)))\n",
        "model.add(layers.Dense(16, activation='relu'))\n",
        "model.add(layers.Dense(1, activation='sigmoid'))\n",
        "\n",
        "# Compile the model with a binary crossentropy loss function and rmsprop optimizer\n",
        "model.compile(optimizer='rmsprop',\n",
        "              loss='binary_crossentropy',\n",
        "              metrics=['accuracy'])"
      ],
      "metadata": {
        "id": "QCNJV9FIqeVE"
      },
      "execution_count": 7,
      "outputs": []
    },
    {
      "cell_type": "code",
      "source": [
        "# Train the model\n",
        "history = model.fit(x_train, y_train,\n",
        "                    epochs=20,\n",
        "                    batch_size=512,\n",
        "                    validation_data=(x_test, y_test))\n",
        "\n",
        "# Evaluate the model on the test data\n",
        "results = model.evaluate(x_test, y_test)\n",
        "print(results)"
      ],
      "metadata": {
        "colab": {
          "base_uri": "https://localhost:8080/"
        },
        "id": "uhVwZzhEqgz4",
        "outputId": "dcc3d898-9a2c-469d-b3c6-2ab11ce05676"
      },
      "execution_count": 8,
      "outputs": [
        {
          "output_type": "stream",
          "name": "stdout",
          "text": [
            "Epoch 1/20\n",
            "49/49 [==============================] - 4s 74ms/step - loss: 0.4423 - accuracy: 0.8136 - val_loss: 0.3387 - val_accuracy: 0.8711\n",
            "Epoch 2/20\n",
            "49/49 [==============================] - 2s 40ms/step - loss: 0.2567 - accuracy: 0.9084 - val_loss: 0.3105 - val_accuracy: 0.8716\n",
            "Epoch 3/20\n",
            "49/49 [==============================] - 2s 40ms/step - loss: 0.2041 - accuracy: 0.9265 - val_loss: 0.3101 - val_accuracy: 0.8746\n",
            "Epoch 4/20\n",
            "49/49 [==============================] - 3s 61ms/step - loss: 0.1753 - accuracy: 0.9369 - val_loss: 0.2933 - val_accuracy: 0.8834\n",
            "Epoch 5/20\n",
            "49/49 [==============================] - 2s 43ms/step - loss: 0.1505 - accuracy: 0.9465 - val_loss: 0.3695 - val_accuracy: 0.8608\n",
            "Epoch 6/20\n",
            "49/49 [==============================] - 2s 40ms/step - loss: 0.1342 - accuracy: 0.9514 - val_loss: 0.3284 - val_accuracy: 0.8778\n",
            "Epoch 7/20\n",
            "49/49 [==============================] - 3s 63ms/step - loss: 0.1180 - accuracy: 0.9592 - val_loss: 0.3468 - val_accuracy: 0.8748\n",
            "Epoch 8/20\n",
            "49/49 [==============================] - 2s 44ms/step - loss: 0.1079 - accuracy: 0.9630 - val_loss: 0.3737 - val_accuracy: 0.8688\n",
            "Epoch 9/20\n",
            "49/49 [==============================] - 3s 56ms/step - loss: 0.0939 - accuracy: 0.9685 - val_loss: 0.3879 - val_accuracy: 0.8697\n",
            "Epoch 10/20\n",
            "49/49 [==============================] - 2s 47ms/step - loss: 0.0831 - accuracy: 0.9737 - val_loss: 0.4718 - val_accuracy: 0.8535\n",
            "Epoch 11/20\n",
            "49/49 [==============================] - 3s 55ms/step - loss: 0.0732 - accuracy: 0.9772 - val_loss: 0.4392 - val_accuracy: 0.8660\n",
            "Epoch 12/20\n",
            "49/49 [==============================] - 2s 43ms/step - loss: 0.0632 - accuracy: 0.9807 - val_loss: 0.5702 - val_accuracy: 0.8474\n",
            "Epoch 13/20\n",
            "49/49 [==============================] - 2s 42ms/step - loss: 0.0567 - accuracy: 0.9833 - val_loss: 0.5649 - val_accuracy: 0.8486\n",
            "Epoch 14/20\n",
            "49/49 [==============================] - 2s 41ms/step - loss: 0.0498 - accuracy: 0.9851 - val_loss: 0.5141 - val_accuracy: 0.8615\n",
            "Epoch 15/20\n",
            "49/49 [==============================] - 3s 63ms/step - loss: 0.0419 - accuracy: 0.9882 - val_loss: 0.6047 - val_accuracy: 0.8526\n",
            "Epoch 16/20\n",
            "49/49 [==============================] - 2s 40ms/step - loss: 0.0343 - accuracy: 0.9915 - val_loss: 0.5828 - val_accuracy: 0.8582\n",
            "Epoch 17/20\n",
            "49/49 [==============================] - 2s 41ms/step - loss: 0.0339 - accuracy: 0.9906 - val_loss: 0.6019 - val_accuracy: 0.8578\n",
            "Epoch 18/20\n",
            "49/49 [==============================] - 2s 41ms/step - loss: 0.0259 - accuracy: 0.9938 - val_loss: 0.6369 - val_accuracy: 0.8568\n",
            "Epoch 19/20\n",
            "49/49 [==============================] - 2s 42ms/step - loss: 0.0279 - accuracy: 0.9919 - val_loss: 0.6694 - val_accuracy: 0.8536\n",
            "Epoch 20/20\n",
            "49/49 [==============================] - 2s 41ms/step - loss: 0.0220 - accuracy: 0.9940 - val_loss: 0.6782 - val_accuracy: 0.8565\n",
            "782/782 [==============================] - 2s 3ms/step - loss: 0.6782 - accuracy: 0.8565\n",
            "[0.6781763434410095, 0.8564800024032593]\n"
          ]
        }
      ]
    },
    {
      "cell_type": "code",
      "source": [],
      "metadata": {
        "id": "YrE-cVJNqzbO"
      },
      "execution_count": 9,
      "outputs": []
    },
    {
      "cell_type": "code",
      "source": [],
      "metadata": {
        "id": "oYaHfqDSr0x5"
      },
      "execution_count": null,
      "outputs": []
    }
  ]
}