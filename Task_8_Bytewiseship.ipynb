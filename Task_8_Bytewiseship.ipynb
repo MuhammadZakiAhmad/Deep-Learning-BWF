{
  "cells": [
    {
      "cell_type": "markdown",
      "metadata": {
        "id": "1aHHrYXc_Vsf"
      },
      "source": [
        "<h1> <font color=green>Deep Learning Bytewiseship</font> </h1>"
      ]
    },
    {
      "cell_type": "markdown",
      "metadata": {
        "id": "uKzm-1Dd_NUT"
      },
      "source": [
        "<h2> <font color=green>Task 8</font> </h2>"
      ]
    },
    {
      "cell_type": "code",
      "execution_count": 5,
      "metadata": {
        "id": "rCPgv9FkFs86",
        "colab": {
          "base_uri": "https://localhost:8080/"
        },
        "outputId": "c14478e0-5755-499a-9ef8-bcc6f567e40e"
      },
      "outputs": [
        {
          "output_type": "stream",
          "name": "stdout",
          "text": [
            "The Mean Queen\n",
            "pizza\n",
            "\n",
            "The Mean Queen serves wonderful pizza.\n",
            "\n",
            "The Mean Queen is open. Come on in!\n"
          ]
        }
      ],
      "source": [
        "class Restaurant():\n",
        "    \"\"\"A class representing a restaurant.\"\"\"\n",
        "\n",
        "    def __init__(self, name, cuisine_type):\n",
        "        \"\"\"Initialize the restaurant.\"\"\"\n",
        "        self.name = name.title()\n",
        "        self.cuisine_type = cuisine_type\n",
        "\n",
        "    def describe_restaurant(self):\n",
        "        \"\"\"Display a summary of the restaurant.\"\"\"\n",
        "        msg = self.name + \" serves wonderful \" + self.cuisine_type + \".\"\n",
        "        print(\"\\n\" + msg)\n",
        "\n",
        "    def open_restaurant(self):\n",
        "        \"\"\"Display a message that the restaurant is open.\"\"\"\n",
        "        msg = self.name + \" is open. Come on in!\"\n",
        "        print(\"\\n\" + msg)\n",
        "\n",
        "restaurant = Restaurant('the mean queen', 'pizza')\n",
        "print(restaurant.name)\n",
        "print(restaurant.cuisine_type)\n",
        "\n",
        "restaurant.describe_restaurant()\n",
        "restaurant.open_restaurant()\n"
      ]
    },
    {
      "cell_type": "code",
      "source": [
        "class Restaurant():\n",
        "    \"\"\"A class representing a restaurant.\"\"\"\n",
        "\n",
        "    def __init__(self, name, cuisine_type):\n",
        "        \"\"\"Initialize the restaurant.\"\"\"\n",
        "        self.name = name.title()\n",
        "        self.cuisine_type = cuisine_type\n",
        "\n",
        "    def describe_restaurant(self):\n",
        "        \"\"\"Display a summary of the restaurant.\"\"\"\n",
        "        msg = self.name + \" serves wonderful \" + self.cuisine_type + \".\"\n",
        "        print(\"\\n\" + msg)\n",
        "\n",
        "    def open_restaurant(self):\n",
        "        \"\"\"Display a message that the restaurant is open.\"\"\"\n",
        "        msg = self.name + \" is open. Come on in!\"\n",
        "        print(\"\\n\" + msg)\n",
        "\n",
        "mean_queen = Restaurant('the mean queen', 'pizza')\n",
        "mean_queen.describe_restaurant()\n",
        "\n",
        "ludvigs = Restaurant(\"ludvig's bistro\", 'seafood')\n",
        "ludvigs.describe_restaurant()\n",
        "\n",
        "mango_thai = Restaurant('mango thai', 'thai food')\n",
        "mango_thai.describe_restaurant()\n"
      ],
      "metadata": {
        "colab": {
          "base_uri": "https://localhost:8080/"
        },
        "id": "m4DTrLeXNhAx",
        "outputId": "ff70dd0a-70f5-4c64-c73a-78da229284ea"
      },
      "execution_count": 6,
      "outputs": [
        {
          "output_type": "stream",
          "name": "stdout",
          "text": [
            "\n",
            "The Mean Queen serves wonderful pizza.\n",
            "\n",
            "Ludvig'S Bistro serves wonderful seafood.\n",
            "\n",
            "Mango Thai serves wonderful thai food.\n"
          ]
        }
      ]
    },
    {
      "cell_type": "code",
      "source": [
        "class User():\n",
        "    \"\"\"Represent a simple user profile.\"\"\"\n",
        "\n",
        "    def __init__(self, first_name, last_name, username, email, location):\n",
        "        \"\"\"Initialize the user.\"\"\"\n",
        "        self.first_name = first_name.title()\n",
        "        self.last_name = last_name.title()\n",
        "        self.username = username\n",
        "        self.email = email\n",
        "        self.location = location.title()\n",
        "\n",
        "    def describe_user(self):\n",
        "        \"\"\"Display a summary of the user's information.\"\"\"\n",
        "        print(\"\\n\" + self.first_name + \" \" + self.last_name)\n",
        "        print(\"  Username: \" + self.username)\n",
        "        print(\"  Email: \" + self.email)\n",
        "        print(\"  Location: \" + self.location)\n",
        "\n",
        "    def greet_user(self):\n",
        "        \"\"\"Display a personalized greeting to the user.\"\"\"\n",
        "        print(\"\\nWelcome back, \" + self.username + \"!\")\n",
        "\n",
        "eric = User('eric', 'matthes', 'e_matthes', 'e_matthes@example.com', 'alaska')\n",
        "eric.describe_user()\n",
        "eric.greet_user()\n",
        "\n",
        "willie = User('willie', 'burger', 'willieburger', 'wb@example.com', 'alaska')\n",
        "willie.describe_user()\n",
        "willie.greet_user()\n"
      ],
      "metadata": {
        "colab": {
          "base_uri": "https://localhost:8080/"
        },
        "id": "W-OnxgtFNkL3",
        "outputId": "e1e8194f-6a26-4c84-b838-8fdaf64ecf97"
      },
      "execution_count": 7,
      "outputs": [
        {
          "output_type": "stream",
          "name": "stdout",
          "text": [
            "\n",
            "Eric Matthes\n",
            "  Username: e_matthes\n",
            "  Email: e_matthes@example.com\n",
            "  Location: Alaska\n",
            "\n",
            "Welcome back, e_matthes!\n",
            "\n",
            "Willie Burger\n",
            "  Username: willieburger\n",
            "  Email: wb@example.com\n",
            "  Location: Alaska\n",
            "\n",
            "Welcome back, willieburger!\n"
          ]
        }
      ]
    },
    {
      "cell_type": "code",
      "source": [
        "class Restaurant():\n",
        "    \"\"\"A class representing a restaurant.\"\"\"\n",
        "\n",
        "    def __init__(self, name, cuisine_type):\n",
        "        \"\"\"Initialize the restaurant.\"\"\"\n",
        "        self.name = name.title()\n",
        "        self.cuisine_type = cuisine_type\n",
        "        self.number_served = 0\n",
        "\n",
        "    def describe_restaurant(self):\n",
        "        \"\"\"Display a summary of the restaurant.\"\"\"\n",
        "        msg = self.name + \" serves wonderful \" + self.cuisine_type + \".\"\n",
        "        print(\"\\n\" + msg)\n",
        "\n",
        "    def open_restaurant(self):\n",
        "        \"\"\"Display a message that the restaurant is open.\"\"\"\n",
        "        msg = self.name + \" is open. Come on in!\"\n",
        "        print(\"\\n\" + msg)\n",
        "\n",
        "    def set_number_served(self, number_served):\n",
        "        \"\"\"Allow user to set the number of customers that have been served.\"\"\"\n",
        "        self.number_served = number_served\n",
        "\n",
        "    def increment_number_served(self, additional_served):\n",
        "        \"\"\"Allow user to increment the number of customers served.\"\"\"\n",
        "        self.number_served += additional_served\n",
        "\n",
        "\n",
        "restaurant = Restaurant('the mean queen', 'pizza')\n",
        "restaurant.describe_restaurant()\n",
        "\n",
        "print(\"\\nNumber served: \" + str(restaurant.number_served))\n",
        "restaurant.number_served = 430\n",
        "print(\"Number served: \" + str(restaurant.number_served))\n",
        "\n",
        "restaurant.set_number_served(1257)\n",
        "print(\"Number served: \" + str(restaurant.number_served))\n",
        "\n",
        "restaurant.increment_number_served(239)\n",
        "print(\"Number served: \" + str(restaurant.number_served))\n"
      ],
      "metadata": {
        "colab": {
          "base_uri": "https://localhost:8080/"
        },
        "id": "XwHVSlghOEP_",
        "outputId": "f260159a-0d15-4903-f1ca-74af9e9a73fa"
      },
      "execution_count": 8,
      "outputs": [
        {
          "output_type": "stream",
          "name": "stdout",
          "text": [
            "\n",
            "The Mean Queen serves wonderful pizza.\n",
            "\n",
            "Number served: 0\n",
            "Number served: 430\n",
            "Number served: 1257\n",
            "Number served: 1496\n"
          ]
        }
      ]
    },
    {
      "cell_type": "code",
      "source": [
        "class User():\n",
        "    \"\"\"Represent a simple user profile.\"\"\"\n",
        "\n",
        "    def __init__(self, first_name, last_name, username, email, location):\n",
        "        \"\"\"Initialize the user.\"\"\"\n",
        "        self.first_name = first_name.title()\n",
        "        self.last_name = last_name.title()\n",
        "        self.username = username\n",
        "        self.email = email\n",
        "        self.location = location.title()\n",
        "        self.login_attempts = 0\n",
        "\n",
        "    def describe_user(self):\n",
        "        \"\"\"Display a summary of the user's information.\"\"\"\n",
        "        print(\"\\n\" + self.first_name + \" \" + self.last_name)\n",
        "        print(\"  Username: \" + self.username)\n",
        "        print(\"  Email: \" + self.email)\n",
        "        print(\"  Location: \" + self.location)\n",
        "\n",
        "    def greet_user(self):\n",
        "        \"\"\"Display a personalized greeting to the user.\"\"\"\n",
        "        print(\"\\nWelcome back, \" + self.username + \"!\")\n",
        "\n",
        "    def increment_login_attempts(self):\n",
        "        \"\"\"Increment the value of login_attempts.\"\"\"\n",
        "        self.login_attempts += 1\n",
        "\n",
        "    def reset_login_attempts(self):\n",
        "        \"\"\"Reset login_attempts to 0.\"\"\"\n",
        "        self.login_attempts = 0\n",
        "\n",
        "eric = User('eric', 'matthes', 'e_matthes', 'e_matthes@example.com', 'alaska')\n",
        "eric.describe_user()\n",
        "eric.greet_user()\n",
        "\n",
        "print(\"\\nMaking 3 login attempts...\")\n",
        "eric.increment_login_attempts()\n",
        "eric.increment_login_attempts()\n",
        "eric.increment_login_attempts()\n",
        "print(\"  Login attempts: \" + str(eric.login_attempts))\n",
        "\n",
        "print(\"Resetting login attempts...\")\n",
        "eric.reset_login_attempts()\n",
        "print(\"  Login attempts: \" + str(eric.login_attempts))\n"
      ],
      "metadata": {
        "colab": {
          "base_uri": "https://localhost:8080/"
        },
        "id": "SRsf4TuJOKdS",
        "outputId": "7f0bc4f2-de52-4855-e294-fb6db803359c"
      },
      "execution_count": 9,
      "outputs": [
        {
          "output_type": "stream",
          "name": "stdout",
          "text": [
            "\n",
            "Eric Matthes\n",
            "  Username: e_matthes\n",
            "  Email: e_matthes@example.com\n",
            "  Location: Alaska\n",
            "\n",
            "Welcome back, e_matthes!\n",
            "\n",
            "Making 3 login attempts...\n",
            "  Login attempts: 3\n",
            "Resetting login attempts...\n",
            "  Login attempts: 0\n"
          ]
        }
      ]
    },
    {
      "cell_type": "code",
      "source": [
        "class Restaurant():\n",
        "    \"\"\"A class representing a restaurant.\"\"\"\n",
        "\n",
        "    def __init__(self, name, cuisine_type):\n",
        "        \"\"\"Initialize the restaurant.\"\"\"\n",
        "        self.name = name.title()\n",
        "        self.cuisine_type = cuisine_type\n",
        "        self.number_served = 0\n",
        "\n",
        "    def describe_restaurant(self):\n",
        "        \"\"\"Display a summary of the restaurant.\"\"\"\n",
        "        msg = self.name + \" serves wonderful \" + self.cuisine_type + \".\"\n",
        "        print(\"\\n\" + msg)\n",
        "\n",
        "    def open_restaurant(self):\n",
        "        \"\"\"Display a message that the restaurant is open.\"\"\"\n",
        "        msg = self.name + \" is open. Come on in!\"\n",
        "        print(\"\\n\" + msg)\n",
        "\n",
        "    def set_number_served(self, number_served):\n",
        "        \"\"\"Allow user to set the number of customers that have been served.\"\"\"\n",
        "        self.number_served = number_served\n",
        "\n",
        "    def increment_number_served(self, additional_served):\n",
        "        \"\"\"Allow user to increment the number of customers served.\"\"\"\n",
        "        self.number_served += additional_served\n",
        "\n",
        "\n",
        "class IceCreamStand(Restaurant):\n",
        "    \"\"\"Represent an ice cream stand.\"\"\"\n",
        "\n",
        "    def __init__(self, name, cuisine_type='ice_cream'):\n",
        "        \"\"\"Initialize an ice cream stand.\"\"\"\n",
        "        super().__init__(name, cuisine_type)\n",
        "        self.flavors = []\n",
        "\n",
        "    def show_flavors(self):\n",
        "        \"\"\"Display the flavors available.\"\"\"\n",
        "        print(\"\\nWe have the following flavors available:\")\n",
        "        for flavor in self.flavors:\n",
        "            print(\"- \" + flavor.title())\n",
        "\n",
        "\n",
        "big_one = IceCreamStand('The Big One')\n",
        "big_one.flavors = ['vanilla', 'chocolate', 'black cherry']\n",
        "\n",
        "big_one.describe_restaurant()\n",
        "big_one.show_flavors()\n"
      ],
      "metadata": {
        "colab": {
          "base_uri": "https://localhost:8080/"
        },
        "id": "9Q62X7gFOTBu",
        "outputId": "16760f7c-87ea-4147-f027-49b4a90cf5c7"
      },
      "execution_count": 10,
      "outputs": [
        {
          "output_type": "stream",
          "name": "stdout",
          "text": [
            "\n",
            "The Big One serves wonderful ice_cream.\n",
            "\n",
            "We have the following flavors available:\n",
            "- Vanilla\n",
            "- Chocolate\n",
            "- Black Cherry\n"
          ]
        }
      ]
    },
    {
      "cell_type": "code",
      "source": [
        "class User():\n",
        "    \"\"\"Represent a simple user profile.\"\"\"\n",
        "\n",
        "    def __init__(self, first_name, last_name, username, email, location):\n",
        "        \"\"\"Initialize the user.\"\"\"\n",
        "        self.first_name = first_name.title()\n",
        "        self.last_name = last_name.title()\n",
        "        self.username = username\n",
        "        self.email = email\n",
        "        self.location = location.title()\n",
        "        self.login_attempts = 0\n",
        "\n",
        "    def describe_user(self):\n",
        "        \"\"\"Display a summary of the user's information.\"\"\"\n",
        "        print(\"\\n\" + self.first_name + \" \" + self.last_name)\n",
        "        print(\"  Username: \" + self.username)\n",
        "        print(\"  Email: \" + self.email)\n",
        "        print(\"  Location: \" + self.location)\n",
        "\n",
        "    def greet_user(self):\n",
        "        \"\"\"Display a personalized greeting to the user.\"\"\"\n",
        "        print(\"\\nWelcome back, \" + self.username + \"!\")\n",
        "\n",
        "    def increment_login_attempts(self):\n",
        "        \"\"\"Increment the value of login_attempts.\"\"\"\n",
        "        self.login_attempts += 1\n",
        "\n",
        "    def reset_login_attempts(self):\n",
        "        \"\"\"Reset login_attempts to 0.\"\"\"\n",
        "        self.login_attempts = 0\n",
        "\n",
        "\n",
        "class Admin(User):\n",
        "    \"\"\"A user with administrative privileges.\"\"\"\n",
        "\n",
        "    def __init__(self, first_name, last_name, username, email, location):\n",
        "        \"\"\"Initialize the admin.\"\"\"\n",
        "        super().__init__(first_name, last_name, username, email, location)\n",
        "        self.privileges = []\n",
        "\n",
        "    def show_privileges(self):\n",
        "        \"\"\"Display the privileges this administrator has.\"\"\"\n",
        "        print(\"\\nPrivileges:\")\n",
        "        for privilege in self.privileges:\n",
        "            print(\"- \" + privilege)\n",
        "\n",
        "\n",
        "eric = Admin('eric', 'matthes', 'e_matthes', 'e_matthes@example.com', 'alaska')\n",
        "eric.describe_user()\n",
        "\n",
        "eric.privileges = [\n",
        "    'can reset passwords',\n",
        "    'can moderate discussions',\n",
        "    'can suspend accounts',\n",
        "    ]\n",
        "\n",
        "eric.show_privileges()\n"
      ],
      "metadata": {
        "colab": {
          "base_uri": "https://localhost:8080/"
        },
        "id": "QGDqzYL6OYfJ",
        "outputId": "a0d37577-6c5a-4c61-8527-58e67b8a64c0"
      },
      "execution_count": 11,
      "outputs": [
        {
          "output_type": "stream",
          "name": "stdout",
          "text": [
            "\n",
            "Eric Matthes\n",
            "  Username: e_matthes\n",
            "  Email: e_matthes@example.com\n",
            "  Location: Alaska\n",
            "\n",
            "Privileges:\n",
            "- can reset passwords\n",
            "- can moderate discussions\n",
            "- can suspend accounts\n"
          ]
        }
      ]
    },
    {
      "cell_type": "code",
      "source": [],
      "metadata": {
        "id": "keeCZ5WfOdVO"
      },
      "execution_count": null,
      "outputs": []
    }
  ],
  "metadata": {
    "colab": {
      "provenance": []
    },
    "kernelspec": {
      "display_name": "Python 3",
      "name": "python3"
    },
    "language_info": {
      "name": "python"
    }
  },
  "nbformat": 4,
  "nbformat_minor": 0
}