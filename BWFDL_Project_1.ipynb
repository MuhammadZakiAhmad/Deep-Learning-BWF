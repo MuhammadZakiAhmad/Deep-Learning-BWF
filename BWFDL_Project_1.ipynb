{
  "nbformat": 4,
  "nbformat_minor": 0,
  "metadata": {
    "colab": {
      "provenance": []
    },
    "kernelspec": {
      "name": "python3",
      "display_name": "Python 3"
    },
    "language_info": {
      "name": "python"
    },
    "gpuClass": "standard"
  },
  "cells": [
    {
      "cell_type": "markdown",
      "source": [
        " **BWF_DEEPLEARNING_PROJECT#1** \n",
        "\n",
        " Submitted By: **Muhammad Zaki Ahmad** \n",
        "\n",
        "Your boss wants you to make some scatterplots and histograms by the end of the day. Can you get this data into pandas and into reasonable shape so that you can make these histograms? Inspect the Data! \n",
        "\n",
        "- The first visualization your boss wants you to make is a scatterplot that shows average income in a state vs proportion of women in that state.\n",
        "- Open some of the census csv files in the navigator. How are they named? What kind of information do they hold? Will they help us make this graph?\n",
        "- It will be easier to inspect this data once we have it in a DataFrame. You can’t even call .head() on these csvs! How are you supposed to read them?\n",
        "- Using glob, loop through the census files available and load them into DataFrames or maybe load them separately in different DataFrames. Then, concatenate all of those DataFrames together into one DataFrame, called something like us_census.\n",
        "- Look at the .columns and the .dtypes of the us_census DataFrame. Are those datatypes going to hinder you as you try to make histograms?\n",
        "- Look at the .head() of the DataFrame so that you can understand why some of these dtypes are objects instead of integers or floats.\n",
        "- Start to make a plan for how to convert these columns into the right types for manipulation.\n",
        "- Look at the GenderPop column. We are going to want to separate this into two columns, the Men column, and the Women column. Split the column into those two new columns using str.split and separating out those results. Convert both of the columns into numerical datatypes.\n",
        "- There is still an M or an F character in each entry! We should remove those before we convert.\n",
        "- Now you should have the columns you need to make the graph and make sure your boss does not slam a ruler angrily on your desk because you’ve wasted your whole day cleaning your data with no results to show!\n",
        "- Use matplotlib to make a scatterplot!\n",
        "- plt.scatter(the_women_column, the_income_column) Remember to call plt.show() to see the graph!\n",
        "- Did you get an error? These monstrous csv files probably have nan or null values in them! Print out your column with the number of women per state to see.\n",
        "- We can fill in those nans by using pandas’ .fillna() function.\n",
        "- You have the TotalPop per state, and you have the Men per state. As an estimate for the nan values in the Women column, you could use the TotalPop of that state minus the Men for that state.\n",
        "- Print out the Women column after filling the nan values to see if it worked!\n",
        "- We forgot to check for duplicates! Use .duplicated() on your census DataFrame to see if we have duplicate rows in there.\n",
        "- Drop those duplicates using the .drop_duplicates() function.\n",
        "- Make the scatterplot again. Now, it should be perfect! Your job is secure, for now.\n",
        "- Histograms of Races. Now, your boss wants you to make a bunch of histograms out of the race data that you have. Look at the .columns again to see what the race categories are.\n",
        "- Try to make a histogram for each one!\n",
        "- You will have to get the columns into numerical format, and those percentage signs will have to go.\n",
        "- Don’t forget to fill the nan values with something that makes sense! You probably dropped the duplicate rows when making your last graph, but it couldn’t hurt to check for duplicates again.\n",
        "- Phew. You’ve definitely impressed your boss on your first day of work."
      ],
      "metadata": {
        "id": "pt3RNqZtRur7"
      }
    },
    {
      "cell_type": "code",
      "execution_count": 87,
      "metadata": {
        "id": "3J3PZIq29viE"
      },
      "outputs": [],
      "source": [
        "# importing important libraries\n",
        "import pandas as pd\n",
        "import os\n",
        "import matplotlib.pyplot as plt\n",
        "import seaborn as sns"
      ]
    },
    {
      "cell_type": "markdown",
      "source": [
        "**Combining All the dataframes**"
      ],
      "metadata": {
        "id": "t7M7D6A5CAoj"
      }
    },
    {
      "cell_type": "code",
      "source": [
        "# set the path to the directory containing the CSV files\n",
        "path = '/content/drive/MyDrive/BWF_DeepLearning/Project#1'"
      ],
      "metadata": {
        "id": "kdKFzZYl-n7j"
      },
      "execution_count": 61,
      "outputs": []
    },
    {
      "cell_type": "code",
      "source": [
        "# get a list of all CSV files in the directory\n",
        "files = [f for f in os.listdir(path) if f.endswith('.csv')]\n",
        "files"
      ],
      "metadata": {
        "colab": {
          "base_uri": "https://localhost:8080/"
        },
        "id": "TbS3xKkK-peo",
        "outputId": "61c2b1f6-3986-4f6d-891a-6bbe1d920f6b"
      },
      "execution_count": 62,
      "outputs": [
        {
          "output_type": "execute_result",
          "data": {
            "text/plain": [
              "['states8.csv',\n",
              " 'states3.csv',\n",
              " 'states4.csv',\n",
              " 'states7.csv',\n",
              " 'states5.csv',\n",
              " 'states9.csv',\n",
              " 'states1.csv',\n",
              " 'states6.csv',\n",
              " 'states2.csv',\n",
              " 'states0.csv']"
            ]
          },
          "metadata": {},
          "execution_count": 62
        }
      ]
    },
    {
      "cell_type": "code",
      "source": [
        "# create a list of DataFrames\n",
        "df_list = [pd.read_csv(os.path.join(path, f), usecols=lambda col: col != 0) for f in files]"
      ],
      "metadata": {
        "id": "2FlG1XAi_Enz"
      },
      "execution_count": 63,
      "outputs": []
    },
    {
      "cell_type": "code",
      "source": [
        "# concatenate the DataFrames into a single DataFrame\n",
        "combined_df = pd.concat(df_list, ignore_index=True)"
      ],
      "metadata": {
        "id": "LAeelYwj_FlR"
      },
      "execution_count": 64,
      "outputs": []
    },
    {
      "cell_type": "code",
      "source": [
        "df = combined_df"
      ],
      "metadata": {
        "id": "t-GVUEnj_NpM"
      },
      "execution_count": 65,
      "outputs": []
    },
    {
      "cell_type": "markdown",
      "source": [
        "**Understanding Data**"
      ],
      "metadata": {
        "id": "rkEpSxknCG4F"
      }
    },
    {
      "cell_type": "code",
      "source": [
        "df = df.drop('Unnamed: 0', axis=1)"
      ],
      "metadata": {
        "id": "tVmwZhm0BAGg"
      },
      "execution_count": 66,
      "outputs": []
    },
    {
      "cell_type": "code",
      "source": [
        "df.head()"
      ],
      "metadata": {
        "colab": {
          "base_uri": "https://localhost:8080/",
          "height": 322
        },
        "id": "DyTueK3aC88S",
        "outputId": "6c43486d-a8a6-4a04-eaca-2f9f3372e01e"
      },
      "execution_count": 69,
      "outputs": [
        {
          "output_type": "execute_result",
          "data": {
            "text/plain": [
              "            State  TotalPop             Hispanic                White  \\\n",
              "0    Rhode Island   1053661  13.356666666666678%   74.32541666666665%   \n",
              "1  South Carolina   4777576   5.056684981684991%  62.888736263736185%   \n",
              "2    South Dakota    843190  3.2396396396396376%   82.50090090090092%   \n",
              "3       Tennessee   6499615   4.720026972353339%   73.49008766014822%   \n",
              "4           Texas  26538614   38.04673809068304%  44.687908934379145%   \n",
              "\n",
              "                 Black                Native                Asian  \\\n",
              "0    5.68291666666667%   0.3462500000000001%  3.2474999999999983%   \n",
              "1   28.75091575091577%   0.2923992673992673%   1.249175824175822%   \n",
              "2  1.4238738738738752%    9.417567567567566%  1.0193693693693688%   \n",
              "3  18.283816587997297%  0.22663519892110592%  1.4072825354012126%   \n",
              "4   11.65004782858236%  0.26114405969007126%  3.6696958102161825%   \n",
              "\n",
              "                 Pacific               Income            GenderPop  \n",
              "0  0.035833333333333335%  $59125.270833333336      510388M_543273F  \n",
              "1  0.046978021978021964%  $46296.807763401106    2322409M_2455167F  \n",
              "2   0.04189189189189189%   $51805.40540540541      423477M_419713F  \n",
              "3   0.04315576534052599%  $47328.083616587355    3167756M_3331859F  \n",
              "4   0.06881576430074614%  $55874.522600500095  13171316M_13367298F  "
            ],
            "text/html": [
              "\n",
              "  <div id=\"df-e8866a79-2f67-4a92-9729-4b09afeb0f75\">\n",
              "    <div class=\"colab-df-container\">\n",
              "      <div>\n",
              "<style scoped>\n",
              "    .dataframe tbody tr th:only-of-type {\n",
              "        vertical-align: middle;\n",
              "    }\n",
              "\n",
              "    .dataframe tbody tr th {\n",
              "        vertical-align: top;\n",
              "    }\n",
              "\n",
              "    .dataframe thead th {\n",
              "        text-align: right;\n",
              "    }\n",
              "</style>\n",
              "<table border=\"1\" class=\"dataframe\">\n",
              "  <thead>\n",
              "    <tr style=\"text-align: right;\">\n",
              "      <th></th>\n",
              "      <th>State</th>\n",
              "      <th>TotalPop</th>\n",
              "      <th>Hispanic</th>\n",
              "      <th>White</th>\n",
              "      <th>Black</th>\n",
              "      <th>Native</th>\n",
              "      <th>Asian</th>\n",
              "      <th>Pacific</th>\n",
              "      <th>Income</th>\n",
              "      <th>GenderPop</th>\n",
              "    </tr>\n",
              "  </thead>\n",
              "  <tbody>\n",
              "    <tr>\n",
              "      <th>0</th>\n",
              "      <td>Rhode Island</td>\n",
              "      <td>1053661</td>\n",
              "      <td>13.356666666666678%</td>\n",
              "      <td>74.32541666666665%</td>\n",
              "      <td>5.68291666666667%</td>\n",
              "      <td>0.3462500000000001%</td>\n",
              "      <td>3.2474999999999983%</td>\n",
              "      <td>0.035833333333333335%</td>\n",
              "      <td>$59125.270833333336</td>\n",
              "      <td>510388M_543273F</td>\n",
              "    </tr>\n",
              "    <tr>\n",
              "      <th>1</th>\n",
              "      <td>South Carolina</td>\n",
              "      <td>4777576</td>\n",
              "      <td>5.056684981684991%</td>\n",
              "      <td>62.888736263736185%</td>\n",
              "      <td>28.75091575091577%</td>\n",
              "      <td>0.2923992673992673%</td>\n",
              "      <td>1.249175824175822%</td>\n",
              "      <td>0.046978021978021964%</td>\n",
              "      <td>$46296.807763401106</td>\n",
              "      <td>2322409M_2455167F</td>\n",
              "    </tr>\n",
              "    <tr>\n",
              "      <th>2</th>\n",
              "      <td>South Dakota</td>\n",
              "      <td>843190</td>\n",
              "      <td>3.2396396396396376%</td>\n",
              "      <td>82.50090090090092%</td>\n",
              "      <td>1.4238738738738752%</td>\n",
              "      <td>9.417567567567566%</td>\n",
              "      <td>1.0193693693693688%</td>\n",
              "      <td>0.04189189189189189%</td>\n",
              "      <td>$51805.40540540541</td>\n",
              "      <td>423477M_419713F</td>\n",
              "    </tr>\n",
              "    <tr>\n",
              "      <th>3</th>\n",
              "      <td>Tennessee</td>\n",
              "      <td>6499615</td>\n",
              "      <td>4.720026972353339%</td>\n",
              "      <td>73.49008766014822%</td>\n",
              "      <td>18.283816587997297%</td>\n",
              "      <td>0.22663519892110592%</td>\n",
              "      <td>1.4072825354012126%</td>\n",
              "      <td>0.04315576534052599%</td>\n",
              "      <td>$47328.083616587355</td>\n",
              "      <td>3167756M_3331859F</td>\n",
              "    </tr>\n",
              "    <tr>\n",
              "      <th>4</th>\n",
              "      <td>Texas</td>\n",
              "      <td>26538614</td>\n",
              "      <td>38.04673809068304%</td>\n",
              "      <td>44.687908934379145%</td>\n",
              "      <td>11.65004782858236%</td>\n",
              "      <td>0.26114405969007126%</td>\n",
              "      <td>3.6696958102161825%</td>\n",
              "      <td>0.06881576430074614%</td>\n",
              "      <td>$55874.522600500095</td>\n",
              "      <td>13171316M_13367298F</td>\n",
              "    </tr>\n",
              "  </tbody>\n",
              "</table>\n",
              "</div>\n",
              "      <button class=\"colab-df-convert\" onclick=\"convertToInteractive('df-e8866a79-2f67-4a92-9729-4b09afeb0f75')\"\n",
              "              title=\"Convert this dataframe to an interactive table.\"\n",
              "              style=\"display:none;\">\n",
              "        \n",
              "  <svg xmlns=\"http://www.w3.org/2000/svg\" height=\"24px\"viewBox=\"0 0 24 24\"\n",
              "       width=\"24px\">\n",
              "    <path d=\"M0 0h24v24H0V0z\" fill=\"none\"/>\n",
              "    <path d=\"M18.56 5.44l.94 2.06.94-2.06 2.06-.94-2.06-.94-.94-2.06-.94 2.06-2.06.94zm-11 1L8.5 8.5l.94-2.06 2.06-.94-2.06-.94L8.5 2.5l-.94 2.06-2.06.94zm10 10l.94 2.06.94-2.06 2.06-.94-2.06-.94-.94-2.06-.94 2.06-2.06.94z\"/><path d=\"M17.41 7.96l-1.37-1.37c-.4-.4-.92-.59-1.43-.59-.52 0-1.04.2-1.43.59L10.3 9.45l-7.72 7.72c-.78.78-.78 2.05 0 2.83L4 21.41c.39.39.9.59 1.41.59.51 0 1.02-.2 1.41-.59l7.78-7.78 2.81-2.81c.8-.78.8-2.07 0-2.86zM5.41 20L4 18.59l7.72-7.72 1.47 1.35L5.41 20z\"/>\n",
              "  </svg>\n",
              "      </button>\n",
              "      \n",
              "  <style>\n",
              "    .colab-df-container {\n",
              "      display:flex;\n",
              "      flex-wrap:wrap;\n",
              "      gap: 12px;\n",
              "    }\n",
              "\n",
              "    .colab-df-convert {\n",
              "      background-color: #E8F0FE;\n",
              "      border: none;\n",
              "      border-radius: 50%;\n",
              "      cursor: pointer;\n",
              "      display: none;\n",
              "      fill: #1967D2;\n",
              "      height: 32px;\n",
              "      padding: 0 0 0 0;\n",
              "      width: 32px;\n",
              "    }\n",
              "\n",
              "    .colab-df-convert:hover {\n",
              "      background-color: #E2EBFA;\n",
              "      box-shadow: 0px 1px 2px rgba(60, 64, 67, 0.3), 0px 1px 3px 1px rgba(60, 64, 67, 0.15);\n",
              "      fill: #174EA6;\n",
              "    }\n",
              "\n",
              "    [theme=dark] .colab-df-convert {\n",
              "      background-color: #3B4455;\n",
              "      fill: #D2E3FC;\n",
              "    }\n",
              "\n",
              "    [theme=dark] .colab-df-convert:hover {\n",
              "      background-color: #434B5C;\n",
              "      box-shadow: 0px 1px 3px 1px rgba(0, 0, 0, 0.15);\n",
              "      filter: drop-shadow(0px 1px 2px rgba(0, 0, 0, 0.3));\n",
              "      fill: #FFFFFF;\n",
              "    }\n",
              "  </style>\n",
              "\n",
              "      <script>\n",
              "        const buttonEl =\n",
              "          document.querySelector('#df-e8866a79-2f67-4a92-9729-4b09afeb0f75 button.colab-df-convert');\n",
              "        buttonEl.style.display =\n",
              "          google.colab.kernel.accessAllowed ? 'block' : 'none';\n",
              "\n",
              "        async function convertToInteractive(key) {\n",
              "          const element = document.querySelector('#df-e8866a79-2f67-4a92-9729-4b09afeb0f75');\n",
              "          const dataTable =\n",
              "            await google.colab.kernel.invokeFunction('convertToInteractive',\n",
              "                                                     [key], {});\n",
              "          if (!dataTable) return;\n",
              "\n",
              "          const docLinkHtml = 'Like what you see? Visit the ' +\n",
              "            '<a target=\"_blank\" href=https://colab.research.google.com/notebooks/data_table.ipynb>data table notebook</a>'\n",
              "            + ' to learn more about interactive tables.';\n",
              "          element.innerHTML = '';\n",
              "          dataTable['output_type'] = 'display_data';\n",
              "          await google.colab.output.renderOutput(dataTable, element);\n",
              "          const docLink = document.createElement('div');\n",
              "          docLink.innerHTML = docLinkHtml;\n",
              "          element.appendChild(docLink);\n",
              "        }\n",
              "      </script>\n",
              "    </div>\n",
              "  </div>\n",
              "  "
            ]
          },
          "metadata": {},
          "execution_count": 69
        }
      ]
    },
    {
      "cell_type": "code",
      "source": [
        "df.columns"
      ],
      "metadata": {
        "colab": {
          "base_uri": "https://localhost:8080/"
        },
        "id": "5eVNiDeiM4_7",
        "outputId": "1929a720-8a41-4c75-d0c1-1f48b78baff3"
      },
      "execution_count": 70,
      "outputs": [
        {
          "output_type": "execute_result",
          "data": {
            "text/plain": [
              "Index(['State', 'TotalPop', 'Hispanic', 'White', 'Black', 'Native', 'Asian',\n",
              "       'Pacific', 'Income', 'GenderPop'],\n",
              "      dtype='object')"
            ]
          },
          "metadata": {},
          "execution_count": 70
        }
      ]
    },
    {
      "cell_type": "code",
      "source": [
        "df.dtypes"
      ],
      "metadata": {
        "colab": {
          "base_uri": "https://localhost:8080/"
        },
        "id": "IBn07NsNBFeq",
        "outputId": "59bab0a0-8af3-4402-9af8-1f77b7802ff8"
      },
      "execution_count": 68,
      "outputs": [
        {
          "output_type": "execute_result",
          "data": {
            "text/plain": [
              "State        object\n",
              "TotalPop      int64\n",
              "Hispanic     object\n",
              "White        object\n",
              "Black        object\n",
              "Native       object\n",
              "Asian        object\n",
              "Pacific      object\n",
              "Income       object\n",
              "GenderPop    object\n",
              "dtype: object"
            ]
          },
          "metadata": {},
          "execution_count": 68
        }
      ]
    },
    {
      "cell_type": "markdown",
      "source": [
        "**Cleaning the Data**"
      ],
      "metadata": {
        "id": "l8ihteZ_D2S3"
      }
    },
    {
      "cell_type": "code",
      "source": [
        "df['Hispanic'] = df['Hispanic'].str.replace('%', '').astype(float) / 100\n",
        "df['White'] = df['White'].str.replace('%', '').astype(float) / 100\n",
        "df['Black'] = df['Black'].str.replace('%', '').astype(float) / 100\n",
        "df['Native'] = df['Native'].str.replace('%', '').astype(float) / 100\n",
        "df['Asian'] = df['Asian'].str.replace('%', '').astype(float) / 100\n",
        "df['Pacific'] = df['Pacific'].str.replace('%', '').astype(float) / 100\n"
      ],
      "metadata": {
        "id": "3yjXm-cnBIE7"
      },
      "execution_count": 71,
      "outputs": []
    },
    {
      "cell_type": "code",
      "source": [
        "df['Income'] = df['Income'].str.replace('$', '').astype(float)\n"
      ],
      "metadata": {
        "colab": {
          "base_uri": "https://localhost:8080/"
        },
        "id": "mXSE1SXfBJLQ",
        "outputId": "c04d6bf5-7e96-4de0-f5ee-558881084396"
      },
      "execution_count": 72,
      "outputs": [
        {
          "output_type": "stream",
          "name": "stderr",
          "text": [
            "<ipython-input-72-04aa9dc83f42>:1: FutureWarning: The default value of regex will change from True to False in a future version. In addition, single character regular expressions will *not* be treated as literal strings when regex=True.\n",
            "  df['Income'] = df['Income'].str.replace('$', '').astype(float)\n"
          ]
        }
      ]
    },
    {
      "cell_type": "code",
      "source": [
        "df['GenderPop']"
      ],
      "metadata": {
        "colab": {
          "base_uri": "https://localhost:8080/"
        },
        "id": "olHvam40Hahc",
        "outputId": "6d2cb507-c74d-4f50-bbf5-94f10e4ca2aa"
      },
      "execution_count": 73,
      "outputs": [
        {
          "output_type": "execute_result",
          "data": {
            "text/plain": [
              "0         510388M_543273F\n",
              "1       2322409M_2455167F\n",
              "2         423477M_419713F\n",
              "3       3167756M_3331859F\n",
              "4     13171316M_13367298F\n",
              "5       1459229M_1444150F\n",
              "6       1534595M_1558931F\n",
              "7       1439862M_1453125F\n",
              "8       2164208M_2233145F\n",
              "9       2261156M_2364097F\n",
              "10        650081M_679019F\n",
              "11             2872643M_F\n",
              "12             2872643M_F\n",
              "13      3249650M_3455936F\n",
              "14      4861973M_5038598F\n",
              "15      2692166M_2727005F\n",
              "16      1451723M_1536358F\n",
              "17      2964003M_3081445F\n",
              "18      5662893M_5913084F\n",
              "19      1906944M_1942789F\n",
              "20      1948453M_1990780F\n",
              "21      6245344M_6534215F\n",
              "22      1713860M_1869213F\n",
              "23        510388M_543273F\n",
              "24      2964003M_3081445F\n",
              "25              510163M_F\n",
              "26        929606M_939759F\n",
              "27      1407735M_1390901F\n",
              "28        653484M_670717F\n",
              "29      4343027M_4561386F\n",
              "30      1459229M_1444150F\n",
              "31        308573M_318031F\n",
              "32      4060948M_4195682F\n",
              "33      3487725M_3497739F\n",
              "34        913631M_937789F\n",
              "35      2851385M_2890732F\n",
              "36      2648667M_2630239F\n",
              "37      1751607M_1841615F\n",
              "38        448413M_478041F\n",
              "39        306674M_340810F\n",
              "40     9600009M_10045763F\n",
              "41      4883331M_5123362F\n",
              "42      4343027M_4561386F\n",
              "43      1032414M_1051703F\n",
              "44     9541801M_10131373F\n",
              "45      4795408M_5049925F\n",
              "46        367963M_353677F\n",
              "47      5662893M_5913084F\n",
              "48      4883331M_5123362F\n",
              "49        709871M_696428F\n",
              "50        810464M_806083F\n",
              "51      6316899M_6556862F\n",
              "52      3235263M_3333382F\n",
              "53      1534595M_1558931F\n",
              "54      2341093M_2489527F\n",
              "55        384160M_349215F\n",
              "56      3299088M_3342840F\n",
              "57      1451913M_1506295F\n",
              "58    19087135M_19334329F\n",
              "59      2648667M_2630239F\n",
              "Name: GenderPop, dtype: object"
            ]
          },
          "metadata": {},
          "execution_count": 73
        }
      ]
    },
    {
      "cell_type": "code",
      "source": [
        "df[['MalePop', 'FemalePop']] = df['GenderPop'].str.split('_', expand=True)\n",
        "df['MalePop'] = df['MalePop'].str.replace('M', '').astype(int)\n",
        "\n"
      ],
      "metadata": {
        "id": "dGksBe5TBNkK"
      },
      "execution_count": 74,
      "outputs": []
    },
    {
      "cell_type": "code",
      "source": [
        "df['FemalePop'] = df['FemalePop'].str.replace('F', '')"
      ],
      "metadata": {
        "id": "5MUhhDvhFJla"
      },
      "execution_count": 76,
      "outputs": []
    },
    {
      "cell_type": "code",
      "source": [
        "df.loc[[11, 12, 25], \"FemalePop\"] = 0"
      ],
      "metadata": {
        "id": "rzCHRIFqGeU8"
      },
      "execution_count": 77,
      "outputs": []
    },
    {
      "cell_type": "code",
      "source": [
        "df['FemalePop']"
      ],
      "metadata": {
        "colab": {
          "base_uri": "https://localhost:8080/"
        },
        "id": "kz-1BQZVBSPu",
        "outputId": "fac07334-2001-4d92-c280-71de1c0959ae"
      },
      "execution_count": 78,
      "outputs": [
        {
          "output_type": "execute_result",
          "data": {
            "text/plain": [
              "0       543273\n",
              "1      2455167\n",
              "2       419713\n",
              "3      3331859\n",
              "4     13367298\n",
              "5      1444150\n",
              "6      1558931\n",
              "7      1453125\n",
              "8      2233145\n",
              "9      2364097\n",
              "10      679019\n",
              "11           0\n",
              "12           0\n",
              "13     3455936\n",
              "14     5038598\n",
              "15     2727005\n",
              "16     1536358\n",
              "17     3081445\n",
              "18     5913084\n",
              "19     1942789\n",
              "20     1990780\n",
              "21     6534215\n",
              "22     1869213\n",
              "23      543273\n",
              "24     3081445\n",
              "25           0\n",
              "26      939759\n",
              "27     1390901\n",
              "28      670717\n",
              "29     4561386\n",
              "30     1444150\n",
              "31      318031\n",
              "32     4195682\n",
              "33     3497739\n",
              "34      937789\n",
              "35     2890732\n",
              "36     2630239\n",
              "37     1841615\n",
              "38      478041\n",
              "39      340810\n",
              "40    10045763\n",
              "41     5123362\n",
              "42     4561386\n",
              "43     1051703\n",
              "44    10131373\n",
              "45     5049925\n",
              "46      353677\n",
              "47     5913084\n",
              "48     5123362\n",
              "49      696428\n",
              "50      806083\n",
              "51     6556862\n",
              "52     3333382\n",
              "53     1558931\n",
              "54     2489527\n",
              "55      349215\n",
              "56     3342840\n",
              "57     1506295\n",
              "58    19334329\n",
              "59     2630239\n",
              "Name: FemalePop, dtype: object"
            ]
          },
          "metadata": {},
          "execution_count": 78
        }
      ]
    },
    {
      "cell_type": "code",
      "source": [
        "df[\"FemalePop\"] = df[\"FemalePop\"].astype(int)\n"
      ],
      "metadata": {
        "id": "FCFbCRBfBUSR"
      },
      "execution_count": 79,
      "outputs": []
    },
    {
      "cell_type": "code",
      "source": [
        "df[\"FemalePop\"].dtype"
      ],
      "metadata": {
        "colab": {
          "base_uri": "https://localhost:8080/"
        },
        "id": "VgZA-XqzHDf4",
        "outputId": "4cb3b3b6-a432-486e-8c1b-96fd303e6bed"
      },
      "execution_count": 80,
      "outputs": [
        {
          "output_type": "execute_result",
          "data": {
            "text/plain": [
              "dtype('int64')"
            ]
          },
          "metadata": {},
          "execution_count": 80
        }
      ]
    },
    {
      "cell_type": "code",
      "source": [
        "df.describe()"
      ],
      "metadata": {
        "colab": {
          "base_uri": "https://localhost:8080/",
          "height": 364
        },
        "id": "rc0SXEA0KIoS",
        "outputId": "d98853d2-63fe-42ff-f985-99f9bcc6fe09"
      },
      "execution_count": 55,
      "outputs": [
        {
          "output_type": "execute_result",
          "data": {
            "text/plain": [
              "           TotalPop   Hispanic      White      Black     Native      Asian  \\\n",
              "count  6.000000e+01  60.000000  60.000000  60.000000  60.000000  60.000000   \n",
              "mean   6.238516e+06   0.123557   0.676416   0.121696   0.013714   0.035918   \n",
              "std    6.588488e+06   0.146512   0.175671   0.117266   0.028917   0.049398   \n",
              "min    6.266040e+05   0.012909   0.007736   0.000926   0.000028   0.000752   \n",
              "25%    2.030429e+06   0.046988   0.564888   0.032570   0.001925   0.015355   \n",
              "50%    4.701414e+06   0.084686   0.715881   0.082338   0.003463   0.023243   \n",
              "75%    7.303256e+06   0.134684   0.794068   0.172396   0.009653   0.037578   \n",
              "max    3.842146e+07   0.988936   0.939831   0.517765   0.163910   0.365921   \n",
              "\n",
              "         Pacific        Income       MalePop     FemalePop  \n",
              "count  55.000000     60.000000  6.000000e+01  6.000000e+01  \n",
              "mean    0.002829  56632.043447  3.067189e+06  3.060988e+06  \n",
              "std     0.011856  11470.954059  3.250785e+06  3.394400e+06  \n",
              "min     0.000012  20720.538286  3.066740e+05  0.000000e+00  \n",
              "25%     0.000280  49536.929939  1.006712e+06  9.048625e+05  \n",
              "50%     0.000428  54239.861387  2.291782e+06  2.111962e+06  \n",
              "75%     0.000869  64341.503756  3.631031e+06  3.672225e+06  \n",
              "max     0.087589  78765.400725  1.908714e+07  1.933433e+07  "
            ],
            "text/html": [
              "\n",
              "  <div id=\"df-79accd57-a1c6-48e8-b903-4e8779f0aa6c\">\n",
              "    <div class=\"colab-df-container\">\n",
              "      <div>\n",
              "<style scoped>\n",
              "    .dataframe tbody tr th:only-of-type {\n",
              "        vertical-align: middle;\n",
              "    }\n",
              "\n",
              "    .dataframe tbody tr th {\n",
              "        vertical-align: top;\n",
              "    }\n",
              "\n",
              "    .dataframe thead th {\n",
              "        text-align: right;\n",
              "    }\n",
              "</style>\n",
              "<table border=\"1\" class=\"dataframe\">\n",
              "  <thead>\n",
              "    <tr style=\"text-align: right;\">\n",
              "      <th></th>\n",
              "      <th>TotalPop</th>\n",
              "      <th>Hispanic</th>\n",
              "      <th>White</th>\n",
              "      <th>Black</th>\n",
              "      <th>Native</th>\n",
              "      <th>Asian</th>\n",
              "      <th>Pacific</th>\n",
              "      <th>Income</th>\n",
              "      <th>MalePop</th>\n",
              "      <th>FemalePop</th>\n",
              "    </tr>\n",
              "  </thead>\n",
              "  <tbody>\n",
              "    <tr>\n",
              "      <th>count</th>\n",
              "      <td>6.000000e+01</td>\n",
              "      <td>60.000000</td>\n",
              "      <td>60.000000</td>\n",
              "      <td>60.000000</td>\n",
              "      <td>60.000000</td>\n",
              "      <td>60.000000</td>\n",
              "      <td>55.000000</td>\n",
              "      <td>60.000000</td>\n",
              "      <td>6.000000e+01</td>\n",
              "      <td>6.000000e+01</td>\n",
              "    </tr>\n",
              "    <tr>\n",
              "      <th>mean</th>\n",
              "      <td>6.238516e+06</td>\n",
              "      <td>0.123557</td>\n",
              "      <td>0.676416</td>\n",
              "      <td>0.121696</td>\n",
              "      <td>0.013714</td>\n",
              "      <td>0.035918</td>\n",
              "      <td>0.002829</td>\n",
              "      <td>56632.043447</td>\n",
              "      <td>3.067189e+06</td>\n",
              "      <td>3.060988e+06</td>\n",
              "    </tr>\n",
              "    <tr>\n",
              "      <th>std</th>\n",
              "      <td>6.588488e+06</td>\n",
              "      <td>0.146512</td>\n",
              "      <td>0.175671</td>\n",
              "      <td>0.117266</td>\n",
              "      <td>0.028917</td>\n",
              "      <td>0.049398</td>\n",
              "      <td>0.011856</td>\n",
              "      <td>11470.954059</td>\n",
              "      <td>3.250785e+06</td>\n",
              "      <td>3.394400e+06</td>\n",
              "    </tr>\n",
              "    <tr>\n",
              "      <th>min</th>\n",
              "      <td>6.266040e+05</td>\n",
              "      <td>0.012909</td>\n",
              "      <td>0.007736</td>\n",
              "      <td>0.000926</td>\n",
              "      <td>0.000028</td>\n",
              "      <td>0.000752</td>\n",
              "      <td>0.000012</td>\n",
              "      <td>20720.538286</td>\n",
              "      <td>3.066740e+05</td>\n",
              "      <td>0.000000e+00</td>\n",
              "    </tr>\n",
              "    <tr>\n",
              "      <th>25%</th>\n",
              "      <td>2.030429e+06</td>\n",
              "      <td>0.046988</td>\n",
              "      <td>0.564888</td>\n",
              "      <td>0.032570</td>\n",
              "      <td>0.001925</td>\n",
              "      <td>0.015355</td>\n",
              "      <td>0.000280</td>\n",
              "      <td>49536.929939</td>\n",
              "      <td>1.006712e+06</td>\n",
              "      <td>9.048625e+05</td>\n",
              "    </tr>\n",
              "    <tr>\n",
              "      <th>50%</th>\n",
              "      <td>4.701414e+06</td>\n",
              "      <td>0.084686</td>\n",
              "      <td>0.715881</td>\n",
              "      <td>0.082338</td>\n",
              "      <td>0.003463</td>\n",
              "      <td>0.023243</td>\n",
              "      <td>0.000428</td>\n",
              "      <td>54239.861387</td>\n",
              "      <td>2.291782e+06</td>\n",
              "      <td>2.111962e+06</td>\n",
              "    </tr>\n",
              "    <tr>\n",
              "      <th>75%</th>\n",
              "      <td>7.303256e+06</td>\n",
              "      <td>0.134684</td>\n",
              "      <td>0.794068</td>\n",
              "      <td>0.172396</td>\n",
              "      <td>0.009653</td>\n",
              "      <td>0.037578</td>\n",
              "      <td>0.000869</td>\n",
              "      <td>64341.503756</td>\n",
              "      <td>3.631031e+06</td>\n",
              "      <td>3.672225e+06</td>\n",
              "    </tr>\n",
              "    <tr>\n",
              "      <th>max</th>\n",
              "      <td>3.842146e+07</td>\n",
              "      <td>0.988936</td>\n",
              "      <td>0.939831</td>\n",
              "      <td>0.517765</td>\n",
              "      <td>0.163910</td>\n",
              "      <td>0.365921</td>\n",
              "      <td>0.087589</td>\n",
              "      <td>78765.400725</td>\n",
              "      <td>1.908714e+07</td>\n",
              "      <td>1.933433e+07</td>\n",
              "    </tr>\n",
              "  </tbody>\n",
              "</table>\n",
              "</div>\n",
              "      <button class=\"colab-df-convert\" onclick=\"convertToInteractive('df-79accd57-a1c6-48e8-b903-4e8779f0aa6c')\"\n",
              "              title=\"Convert this dataframe to an interactive table.\"\n",
              "              style=\"display:none;\">\n",
              "        \n",
              "  <svg xmlns=\"http://www.w3.org/2000/svg\" height=\"24px\"viewBox=\"0 0 24 24\"\n",
              "       width=\"24px\">\n",
              "    <path d=\"M0 0h24v24H0V0z\" fill=\"none\"/>\n",
              "    <path d=\"M18.56 5.44l.94 2.06.94-2.06 2.06-.94-2.06-.94-.94-2.06-.94 2.06-2.06.94zm-11 1L8.5 8.5l.94-2.06 2.06-.94-2.06-.94L8.5 2.5l-.94 2.06-2.06.94zm10 10l.94 2.06.94-2.06 2.06-.94-2.06-.94-.94-2.06-.94 2.06-2.06.94z\"/><path d=\"M17.41 7.96l-1.37-1.37c-.4-.4-.92-.59-1.43-.59-.52 0-1.04.2-1.43.59L10.3 9.45l-7.72 7.72c-.78.78-.78 2.05 0 2.83L4 21.41c.39.39.9.59 1.41.59.51 0 1.02-.2 1.41-.59l7.78-7.78 2.81-2.81c.8-.78.8-2.07 0-2.86zM5.41 20L4 18.59l7.72-7.72 1.47 1.35L5.41 20z\"/>\n",
              "  </svg>\n",
              "      </button>\n",
              "      \n",
              "  <style>\n",
              "    .colab-df-container {\n",
              "      display:flex;\n",
              "      flex-wrap:wrap;\n",
              "      gap: 12px;\n",
              "    }\n",
              "\n",
              "    .colab-df-convert {\n",
              "      background-color: #E8F0FE;\n",
              "      border: none;\n",
              "      border-radius: 50%;\n",
              "      cursor: pointer;\n",
              "      display: none;\n",
              "      fill: #1967D2;\n",
              "      height: 32px;\n",
              "      padding: 0 0 0 0;\n",
              "      width: 32px;\n",
              "    }\n",
              "\n",
              "    .colab-df-convert:hover {\n",
              "      background-color: #E2EBFA;\n",
              "      box-shadow: 0px 1px 2px rgba(60, 64, 67, 0.3), 0px 1px 3px 1px rgba(60, 64, 67, 0.15);\n",
              "      fill: #174EA6;\n",
              "    }\n",
              "\n",
              "    [theme=dark] .colab-df-convert {\n",
              "      background-color: #3B4455;\n",
              "      fill: #D2E3FC;\n",
              "    }\n",
              "\n",
              "    [theme=dark] .colab-df-convert:hover {\n",
              "      background-color: #434B5C;\n",
              "      box-shadow: 0px 1px 3px 1px rgba(0, 0, 0, 0.15);\n",
              "      filter: drop-shadow(0px 1px 2px rgba(0, 0, 0, 0.3));\n",
              "      fill: #FFFFFF;\n",
              "    }\n",
              "  </style>\n",
              "\n",
              "      <script>\n",
              "        const buttonEl =\n",
              "          document.querySelector('#df-79accd57-a1c6-48e8-b903-4e8779f0aa6c button.colab-df-convert');\n",
              "        buttonEl.style.display =\n",
              "          google.colab.kernel.accessAllowed ? 'block' : 'none';\n",
              "\n",
              "        async function convertToInteractive(key) {\n",
              "          const element = document.querySelector('#df-79accd57-a1c6-48e8-b903-4e8779f0aa6c');\n",
              "          const dataTable =\n",
              "            await google.colab.kernel.invokeFunction('convertToInteractive',\n",
              "                                                     [key], {});\n",
              "          if (!dataTable) return;\n",
              "\n",
              "          const docLinkHtml = 'Like what you see? Visit the ' +\n",
              "            '<a target=\"_blank\" href=https://colab.research.google.com/notebooks/data_table.ipynb>data table notebook</a>'\n",
              "            + ' to learn more about interactive tables.';\n",
              "          element.innerHTML = '';\n",
              "          dataTable['output_type'] = 'display_data';\n",
              "          await google.colab.output.renderOutput(dataTable, element);\n",
              "          const docLink = document.createElement('div');\n",
              "          docLink.innerHTML = docLinkHtml;\n",
              "          element.appendChild(docLink);\n",
              "        }\n",
              "      </script>\n",
              "    </div>\n",
              "  </div>\n",
              "  "
            ]
          },
          "metadata": {},
          "execution_count": 55
        }
      ]
    },
    {
      "cell_type": "code",
      "source": [
        "df.isnull().sum()"
      ],
      "metadata": {
        "colab": {
          "base_uri": "https://localhost:8080/"
        },
        "id": "FmNIgDE2KZ-S",
        "outputId": "057482ed-6b07-4115-8eec-c5a812fb5809"
      },
      "execution_count": 81,
      "outputs": [
        {
          "output_type": "execute_result",
          "data": {
            "text/plain": [
              "State        0\n",
              "TotalPop     0\n",
              "Hispanic     0\n",
              "White        0\n",
              "Black        0\n",
              "Native       0\n",
              "Asian        0\n",
              "Pacific      5\n",
              "Income       0\n",
              "GenderPop    0\n",
              "MalePop      0\n",
              "FemalePop    0\n",
              "dtype: int64"
            ]
          },
          "metadata": {},
          "execution_count": 81
        }
      ]
    },
    {
      "cell_type": "code",
      "source": [
        "# calculate the mean of the non-null values in the \"Pacific\" column\n",
        "mean_pacific = df[\"Pacific\"].mean()\n",
        "\n",
        "# replace the null values in the \"Pacific\" column with the calculated mean\n",
        "df[\"Pacific\"].fillna(mean_pacific, inplace=True)"
      ],
      "metadata": {
        "id": "9AnT2NWpKrEC"
      },
      "execution_count": 58,
      "outputs": []
    },
    {
      "cell_type": "code",
      "source": [
        "df.isnull().sum()"
      ],
      "metadata": {
        "colab": {
          "base_uri": "https://localhost:8080/"
        },
        "id": "JNDei76qLOmB",
        "outputId": "45795901-3515-4d81-e83b-cc2dac1a81fd"
      },
      "execution_count": 59,
      "outputs": [
        {
          "output_type": "execute_result",
          "data": {
            "text/plain": [
              "State        0\n",
              "TotalPop     0\n",
              "Hispanic     0\n",
              "White        0\n",
              "Black        0\n",
              "Native       0\n",
              "Asian        0\n",
              "Pacific      0\n",
              "Income       0\n",
              "GenderPop    0\n",
              "MalePop      0\n",
              "FemalePop    0\n",
              "dtype: int64"
            ]
          },
          "metadata": {},
          "execution_count": 59
        }
      ]
    },
    {
      "cell_type": "code",
      "source": [
        "def femalePop(row):\n",
        "    if row['FemalePop'] == 0:\n",
        "        return row['TotalPop'] - row['MalePop']\n",
        "    else:\n",
        "        return row['FemalePop']\n",
        "\n",
        "# Apply the function to the Female_Pop column\n",
        "df['Female_Pop'] = df.apply(femalePop, axis=1)\n",
        "     "
      ],
      "metadata": {
        "id": "zwGWm0H9LRim"
      },
      "execution_count": 83,
      "outputs": []
    },
    {
      "cell_type": "code",
      "source": [
        "df.duplicated()"
      ],
      "metadata": {
        "colab": {
          "base_uri": "https://localhost:8080/"
        },
        "id": "l3L80GBHOt1Q",
        "outputId": "32c510ef-8bb3-421e-b979-2e5f043f7bf5"
      },
      "execution_count": 85,
      "outputs": [
        {
          "output_type": "execute_result",
          "data": {
            "text/plain": [
              "0     False\n",
              "1     False\n",
              "2     False\n",
              "3     False\n",
              "4     False\n",
              "5     False\n",
              "6     False\n",
              "7     False\n",
              "8     False\n",
              "9     False\n",
              "10    False\n",
              "11    False\n",
              "12     True\n",
              "13    False\n",
              "14    False\n",
              "15    False\n",
              "16    False\n",
              "17    False\n",
              "18    False\n",
              "19    False\n",
              "20    False\n",
              "21    False\n",
              "22    False\n",
              "23     True\n",
              "24     True\n",
              "25    False\n",
              "26    False\n",
              "27    False\n",
              "28    False\n",
              "29    False\n",
              "30     True\n",
              "31    False\n",
              "32    False\n",
              "33    False\n",
              "34    False\n",
              "35    False\n",
              "36    False\n",
              "37    False\n",
              "38    False\n",
              "39    False\n",
              "40    False\n",
              "41    False\n",
              "42     True\n",
              "43    False\n",
              "44    False\n",
              "45    False\n",
              "46    False\n",
              "47     True\n",
              "48     True\n",
              "49    False\n",
              "50    False\n",
              "51    False\n",
              "52    False\n",
              "53     True\n",
              "54    False\n",
              "55    False\n",
              "56    False\n",
              "57    False\n",
              "58    False\n",
              "59     True\n",
              "dtype: bool"
            ]
          },
          "metadata": {},
          "execution_count": 85
        }
      ]
    },
    {
      "cell_type": "code",
      "source": [
        "df.drop_duplicates(inplace=True)\n"
      ],
      "metadata": {
        "id": "Gy7A0lO8O4mk"
      },
      "execution_count": 86,
      "outputs": []
    },
    {
      "cell_type": "markdown",
      "source": [
        "**Making Required Visualizations**"
      ],
      "metadata": {
        "id": "TSd7EWqfPfuI"
      }
    },
    {
      "cell_type": "code",
      "source": [
        "plt.scatter(df[\"Income\"], df[\"FemalePop\"] / df[\"TotalPop\"])\n",
        "plt.xlabel(\"Average Income\")\n",
        "plt.ylabel(\"Proportion of Women\")\n",
        "plt.show()"
      ],
      "metadata": {
        "colab": {
          "base_uri": "https://localhost:8080/",
          "height": 449
        },
        "id": "dEiwrMgxPFaO",
        "outputId": "94cb976b-a996-45ca-b410-76476feb3a10"
      },
      "execution_count": 88,
      "outputs": [
        {
          "output_type": "display_data",
          "data": {
            "text/plain": [
              "<Figure size 640x480 with 1 Axes>"
            ],
            "image/png": "[encoded data removed]"
          },
          "metadata": {}
        }
      ]
    },
    {
      "cell_type": "code",
      "source": [
        "# Create a list of the column names for the races\n",
        "races = ['Hispanic', 'White', 'Black', 'Native', 'Asian', 'Pacific']\n",
        "\n",
        "# Loop over the race columns and create a histogram for each one\n",
        "for race in races:\n",
        "    # Filter out any rows with null values in the race column\n",
        "    filtered_df = df[df[race].notnull()]\n",
        "    # Create the histogram\n",
        "    plt.hist(filtered_df[race], bins=20)\n",
        "    plt.title(f'{race} Distribution')\n",
        "    plt.xlabel('Percentage of Population')\n",
        "    plt.ylabel('Count')\n",
        "    plt.show()"
      ],
      "metadata": {
        "colab": {
          "base_uri": "https://localhost:8080/",
          "height": 1000
        },
        "id": "9yFzYsBTPjTX",
        "outputId": "f0a549a0-1429-4264-8f07-c521dde4cb9c"
      },
      "execution_count": 89,
      "outputs": [
        {
          "output_type": "display_data",
          "data": {
            "text/plain": [
              "<Figure size 640x480 with 1 Axes>"
            ],
            "image/png": "[encoded data removed]"
          },
          "metadata": {}
        },
        {
          "output_type": "display_data",
          "data": {
            "text/plain": [
              "<Figure size 640x480 with 1 Axes>"
            ],
            "image/png": "[encoded data removed]"
          },
          "metadata": {}
        },
        {
          "output_type": "display_data",
          "data": {
            "text/plain": [
              "<Figure size 640x480 with 1 Axes>"
            ],
            "image/png": "[encoded data removed]"
          },
          "metadata": {}
        },
        {
          "output_type": "display_data",
          "data": {
            "text/plain": [
              "<Figure size 640x480 with 1 Axes>"
            ],
            "image/png": "[encoded data removed]"
          },
          "metadata": {}
        },
        {
          "output_type": "display_data",
          "data": {
            "text/plain": [
              "<Figure size 640x480 with 1 Axes>"
            ],
            "image/png": "[encoded data removed]"
          },
          "metadata": {}
        },
        {
          "output_type": "display_data",
          "data": {
            "text/plain": [
              "<Figure size 640x480 with 1 Axes>"
            ],
            "image/png": "[encoded data removed]"
          },
          "metadata": {}
        }
      ]
    },
    {
      "cell_type": "code",
      "source": [
        "\n",
        "sns.set_style('darkgrid')\n",
        "\n",
        "# set the figure size\n",
        "plt.figure(figsize=(10,6))\n",
        "\n",
        "# plot the histogram\n",
        "sns.histplot(df['White'], color='blue', label='White', kde=False)\n",
        "sns.histplot(df['Black'], color='orange', label='Black', kde=False)\n",
        "sns.histplot(df['Hispanic'], color='green', label='Hispanic', kde=False)\n",
        "sns.histplot(df['Asian'], color='red', label='Asian', kde=False)\n",
        "sns.histplot(df['Pacific'], color='purple', label='Pacific', kde=False)\n",
        "sns.histplot(df['Native'], color='pink', label='Native', kde=False)\n",
        "\n",
        "# set the x and y labels\n",
        "plt.xlabel('Percentage of Population')\n",
        "plt.ylabel('Frequency')\n",
        "\n",
        "# set the title\n",
        "plt.title('Distribution of Races')\n",
        "\n",
        "# add a legend\n",
        "plt.legend()\n",
        "\n",
        "# show the plot\n",
        "plt.show()\n"
      ],
      "metadata": {
        "colab": {
          "base_uri": "https://localhost:8080/",
          "height": 564
        },
        "id": "ND5aaCgBQ0kU",
        "outputId": "4ad5dd78-826c-4efd-af74-1bef4215e5a1"
      },
      "execution_count": 92,
      "outputs": [
        {
          "output_type": "display_data",
          "data": {
            "text/plain": [
              "<Figure size 1000x600 with 1 Axes>"
            ],
            "image/png": "[encoded data removed]"
          },
          "metadata": {}
        }
      ]
    },
    {
      "cell_type": "code",
      "source": [],
      "metadata": {
        "id": "5vl-Orq0Q883"
      },
      "execution_count": null,
      "outputs": []
    }
  ]
}