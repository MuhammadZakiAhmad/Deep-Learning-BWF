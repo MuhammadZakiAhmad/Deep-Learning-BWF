{
  "nbformat": 4,
  "nbformat_minor": 0,
  "metadata": {
    "colab": {
      "provenance": []
    },
    "kernelspec": {
      "name": "python3",
      "display_name": "Python 3"
    },
    "language_info": {
      "name": "python"
    }
  },
  "cells": [
    {
      "cell_type": "markdown",
      "source": [
        "<h1> <font color=green>Bytewise Deep Learning Bytewiseship</font> </h1>"
      ],
      "metadata": {
        "id": "JPLxE-3IPq5T"
      }
    },
    {
      "cell_type": "markdown",
      "source": [
        "<h2> <font color=green>Task 9</font> </h2>"
      ],
      "metadata": {
        "id": "w560NCEBPwom"
      }
    },
    {
      "cell_type": "code",
      "source": [
        "filename = 'learning_python.txt'\n",
        "\n",
        "print(\"--- Reading in the entire file:\")\n",
        "with open(filename) as f:\n",
        "    contents = f.read()\n",
        "print(contents)\n",
        "\n",
        "print(\"\\n--- Looping over the lines:\")\n",
        "with open(filename) as f:\n",
        "    for line in f:\n",
        "        print(line.rstrip())\n",
        "\n",
        "print(\"\\n--- Storing the lines in a list:\")\n",
        "with open(filename) as f:\n",
        "    lines = f.readlines()\n",
        "\n",
        "for line in lines:\n",
        "    print(line.rstrip())\n"
      ],
      "metadata": {
        "id": "Qs0ysfqjP0RZ"
      },
      "execution_count": null,
      "outputs": []
    },
    {
      "cell_type": "code",
      "source": [
        "message = \"I really like dogs.\"\n",
        ">>> message.replace('dog', 'cat')\n",
        "'I really like cats.'"
      ],
      "metadata": {
        "id": "7LHgxzLHP38c"
      },
      "execution_count": null,
      "outputs": []
    },
    {
      "cell_type": "code",
      "source": [
        "filename = 'learning_python.txt'\n",
        "\n",
        "with open(filename) as f:\n",
        "    lines = f.readlines()\n",
        "\n",
        "for line in lines:\n",
        "    # Get rid of newline, then replace Python with C.\n",
        "    line = line.rstrip()\n",
        "    print(line.replace('Python', 'C'))\n"
      ],
      "metadata": {
        "id": "td5eS8-hP76a"
      },
      "execution_count": null,
      "outputs": []
    },
    {
      "cell_type": "code",
      "source": [
        "filename = 'learning_python.txt'\n",
        "\n",
        "with open(filename) as f:\n",
        "    lines = f.readlines()\n",
        "\n",
        "for line in lines:\n",
        "    # Get rid of newline, then replace Python with C.\n",
        "    print(line.rstrip().replace('Python', 'C'))\n"
      ],
      "metadata": {
        "id": "flfgfYqYP-At"
      },
      "execution_count": null,
      "outputs": []
    },
    {
      "cell_type": "code",
      "source": [
        "name = input(\"What's your name? \")\n",
        "\n",
        "filename = 'guest.txt'\n",
        "\n",
        "with open(filename, 'w') as f:\n",
        "    f.write(name)\n"
      ],
      "metadata": {
        "id": "It1NeEOcQA0F"
      },
      "execution_count": null,
      "outputs": []
    },
    {
      "cell_type": "code",
      "source": [
        "filename = 'guest_book.txt'\n",
        "\n",
        "print(\"Enter 'quit' when you are finished.\")\n",
        "while True:\n",
        "    name = input(\"\\nWhat's your name? \")\n",
        "    if name == 'quit':\n",
        "        break\n",
        "    else:\n",
        "        with open(filename, 'a') as f:\n",
        "            f.write(name + \"\\n\")\n",
        "        print(\"Hi \" + name + \", you've been added to the guest book.\""
      ],
      "metadata": {
        "id": "UyQmXg4VQEOY"
      },
      "execution_count": null,
      "outputs": []
    },
    {
      "cell_type": "code",
      "source": [
        "filename = 'programming_poll.txt'\n",
        "\n",
        "responses = []\n",
        "while True:\n",
        "    response = input(\"\\nWhy do you like programming? \")\n",
        "    responses.append(response)\n",
        "\n",
        "    continue_poll = input(\"Would you like to let someone else respond? (y/n) \")\n",
        "    if continue_poll != 'y':\n",
        "        break\n",
        "\n",
        "with open(filename, 'a') as f:\n",
        "    for response in responses:\n",
        "        f.write(response + \"\\n\")\n"
      ],
      "metadata": {
        "id": "g9GGMZsQQHFa"
      },
      "execution_count": null,
      "outputs": []
    },
    {
      "cell_type": "code",
      "source": [
        "try:\n",
        "    x = input(\"Give me a number: \")\n",
        "    x = int(x)\n",
        "\n",
        "    y = input(\"Give me another number: \")\n",
        "    y = int(y)\n",
        "\n",
        "except ValueError:\n",
        "    print(\"Sorry, I really needed a number.\")\n",
        "\n",
        "else:\n",
        "    sum = x + y\n",
        "    print(\"The sum of \" + str(x) + \" and \" + str(y) + \" is \" + str(sum) + \".\")\n"
      ],
      "metadata": {
        "id": "7lN3HZNAQKq8"
      },
      "execution_count": null,
      "outputs": []
    },
    {
      "cell_type": "code",
      "source": [
        "print(\"Enter 'q' at any time to quit.\\n\")\n",
        "\n",
        "while True:\n",
        "    try:\n",
        "        x = input(\"\\nGive me a number: \")\n",
        "        if x == 'q':\n",
        "            break\n",
        "\n",
        "        x = int(x)\n",
        "\n",
        "        y = input(\"Give me another number: \")\n",
        "        if y == 'q':\n",
        "            break\n",
        "\n",
        "        y = int(y)\n",
        "\n",
        "    except ValueError:\n",
        "        print(\"Sorry, I really needed a number.\")\n",
        "\n",
        "    else:\n",
        "        sum = x + y\n",
        "        print(\"The sum of \" + str(x) + \" and \" + str(y) + \" is \" + str(sum) + \".\")\n"
      ],
      "metadata": {
        "id": "ASNcxcwVQNYO"
      },
      "execution_count": null,
      "outputs": []
    }
  ]
}