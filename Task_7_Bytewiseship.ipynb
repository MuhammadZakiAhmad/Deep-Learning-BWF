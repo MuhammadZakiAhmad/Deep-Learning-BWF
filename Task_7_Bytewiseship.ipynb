{
  "nbformat": 4,
  "nbformat_minor": 0,
  "metadata": {
    "colab": {
      "provenance": []
    },
    "kernelspec": {
      "name": "python3",
      "display_name": "Python 3"
    },
    "language_info": {
      "name": "python"
    }
  },
  "cells": [
    {
      "cell_type": "markdown",
      "source": [
        "<h1> <font color=green>Deep Learning Bytewiseship</font> </h1>"
      ],
      "metadata": {
        "id": "1aHHrYXc_Vsf"
      }
    },
    {
      "cell_type": "markdown",
      "source": [
        "<h2> <font color=green>Task 7</font> </h2>"
      ],
      "metadata": {
        "id": "uKzm-1Dd_NUT"
      }
    },
    {
      "cell_type": "code",
      "source": [
        "def display_message():\n",
        "    \"\"\"Prints a message about what is being learned in this chapter.\"\"\"\n",
        "    print(\"In this chapter, we are learning about functions in Python.\")\n",
        "\n",
        "# Call the function to display the message\n",
        "display_message()\n"
      ],
      "metadata": {
        "colab": {
          "base_uri": "https://localhost:8080/"
        },
        "id": "ydYWwAnC_UYV",
        "outputId": "e6c14286-373b-4c78-cddf-9feba955095e"
      },
      "execution_count": 21,
      "outputs": [
        {
          "output_type": "stream",
          "name": "stdout",
          "text": [
            "In this chapter, we are learning about functions in Python.\n"
          ]
        }
      ]
    },
    {
      "cell_type": "code",
      "source": [
        "def favorite_book(title):\n",
        "    \"\"\"Prints a message about a favorite book.\"\"\"\n",
        "    print(f\"One of my favorite books is {title}.\")\n",
        "\n",
        "# Call the function with a book title argument\n",
        "favorite_book(\"Alice in Wonderland\")\n"
      ],
      "metadata": {
        "colab": {
          "base_uri": "https://localhost:8080/"
        },
        "id": "NPR3C09a_kQ7",
        "outputId": "c1d4b745-2c88-413d-97fd-755694acca59"
      },
      "execution_count": 22,
      "outputs": [
        {
          "output_type": "stream",
          "name": "stdout",
          "text": [
            "One of my favorite books is Alice in Wonderland.\n"
          ]
        }
      ]
    },
    {
      "cell_type": "code",
      "source": [
        "def make_shirt(size, message):\n",
        "    \"\"\"Prints a message summarizing the size and message of a T-shirt.\"\"\"\n",
        "    print(f\"The T-shirt is size {size} and has the message: {message}\")\n",
        "\n",
        "# Call the function using positional arguments\n",
        "make_shirt(\"M\", \"Hello, world!\")\n",
        "\n",
        "# Call the function using keyword arguments\n",
        "make_shirt(size=\"L\", message=\"Python is awesome!\")\n"
      ],
      "metadata": {
        "colab": {
          "base_uri": "https://localhost:8080/"
        },
        "id": "wo857Vgk_nlB",
        "outputId": "abee9bd1-e6c2-42fd-cfff-6e8117f8391b"
      },
      "execution_count": 23,
      "outputs": [
        {
          "output_type": "stream",
          "name": "stdout",
          "text": [
            "The T-shirt is size M and has the message: Hello, world!\n",
            "The T-shirt is size L and has the message: Python is awesome!\n"
          ]
        }
      ]
    },
    {
      "cell_type": "code",
      "source": [
        "def make_shirt(size=\"L\", message=\"I love Python\"):\n",
        "    \"\"\"Prints a message summarizing the size and message of a T-shirt.\"\"\"\n",
        "    print(f\"The T-shirt is size {size} and has the message: {message}\")\n",
        "\n",
        "# Call the function with default arguments\n",
        "make_shirt()\n",
        "\n",
        "# Call the function with a different message\n",
        "make_shirt(message=\"Python is cool!\")\n",
        "\n",
        "# Call the function with a medium shirt and default message\n",
        "make_shirt(size=\"M\")\n"
      ],
      "metadata": {
        "colab": {
          "base_uri": "https://localhost:8080/"
        },
        "id": "0-robxm7_qBW",
        "outputId": "f23903d9-566f-4b9c-8bb8-24e5263eddcf"
      },
      "execution_count": 24,
      "outputs": [
        {
          "output_type": "stream",
          "name": "stdout",
          "text": [
            "The T-shirt is size L and has the message: I love Python\n",
            "The T-shirt is size L and has the message: Python is cool!\n",
            "The T-shirt is size M and has the message: I love Python\n"
          ]
        }
      ]
    },
    {
      "cell_type": "code",
      "source": [
        "def describe_city(city, country=\"USA\"):\n",
        "    \"\"\"Prints a message about a city and its country.\"\"\"\n",
        "    print(f\"{city} is in {country}.\")\n",
        "\n",
        "# Call the function for three different cities\n",
        "describe_city(\"New York\")\n",
        "describe_city(\"Reykjavik\", \"Iceland\")\n",
        "describe_city(\"Tokyo\", \"Japan\")\n"
      ],
      "metadata": {
        "colab": {
          "base_uri": "https://localhost:8080/"
        },
        "id": "rY3S9vZuAziW",
        "outputId": "192987db-5d0c-4276-8bad-dae1e8e27208"
      },
      "execution_count": 25,
      "outputs": [
        {
          "output_type": "stream",
          "name": "stdout",
          "text": [
            "New York is in USA.\n",
            "Reykjavik is in Iceland.\n",
            "Tokyo is in Japan.\n"
          ]
        }
      ]
    },
    {
      "cell_type": "code",
      "source": [
        "def city_country(city, country):\n",
        "    \"\"\"Returns a string formatted as 'city, country'.\"\"\"\n",
        "    return f\"{city.title()}, {country.title()}\"\n",
        "\n",
        "# Call the function with different city-country pairs\n",
        "print(city_country(\"santiago\", \"chile\"))\n",
        "print(city_country(\"new york\", \"usa\"))\n",
        "print(city_country(\"tokyo\", \"japan\"))\n"
      ],
      "metadata": {
        "colab": {
          "base_uri": "https://localhost:8080/"
        },
        "id": "YTEqMFcrA23g",
        "outputId": "a0597cc5-bdd8-48a2-e0c0-f7078a37c1c8"
      },
      "execution_count": 26,
      "outputs": [
        {
          "output_type": "stream",
          "name": "stdout",
          "text": [
            "Santiago, Chile\n",
            "New York, Usa\n",
            "Tokyo, Japan\n"
          ]
        }
      ]
    },
    {
      "cell_type": "code",
      "source": [
        "def make_album(artist, title, tracks=None):\n",
        "    \"\"\"Builds a dictionary describing a music album.\"\"\"\n",
        "    album = {\"artist\": artist, \"title\": title}\n",
        "    if tracks:\n",
        "        album[\"tracks\"] = tracks\n",
        "    return album\n",
        "\n",
        "# Call the function to make three different dictionaries representing albums\n",
        "album1 = make_album(\"Metallica\", \"Metallica\")\n",
        "album2 = make_album(\"Led Zeppelin\", \"IV\")\n",
        "album3 = make_album(\"Pink Floyd\", \"The Wall\", tracks=26)\n",
        "\n",
        "# Print each album dictionary\n",
        "print(album1)\n",
        "print(album2)\n",
        "print(album3)\n"
      ],
      "metadata": {
        "colab": {
          "base_uri": "https://localhost:8080/"
        },
        "id": "cUn_Ys2tFnf0",
        "outputId": "1f4d82ff-b021-455e-d744-f31c0e9dc11b"
      },
      "execution_count": 27,
      "outputs": [
        {
          "output_type": "stream",
          "name": "stdout",
          "text": [
            "{'artist': 'Metallica', 'title': 'Metallica'}\n",
            "{'artist': 'Led Zeppelin', 'title': 'IV'}\n",
            "{'artist': 'Pink Floyd', 'title': 'The Wall', 'tracks': 26}\n"
          ]
        }
      ]
    },
    {
      "cell_type": "code",
      "source": [
        "def make_album(artist, title, tracks=None):\n",
        "    \"\"\"Builds a dictionary describing a music album.\"\"\"\n",
        "    album = {\"artist\": artist, \"title\": title}\n",
        "    if tracks:\n",
        "        album[\"tracks\"] = tracks\n",
        "    return album\n",
        "\n",
        "# Use a while loop to allow users to enter album information\n",
        "while True:\n",
        "    print(\"\\nEnter 'q' at any time to quit.\")\n",
        "    artist = input(\"Enter the artist's name: \")\n",
        "    if artist == 'q':\n",
        "        break\n",
        "    title = input(\"Enter the album's title: \")\n",
        "    if title == 'q':\n",
        "        break\n",
        "    tracks = input(\"Enter the number of tracks (optional): \")\n",
        "    if tracks == 'q':\n",
        "        break\n",
        "    if tracks:\n",
        "        album = make_album(artist, title, tracks)\n",
        "    else:\n",
        "        album = make_album(artist, title)\n",
        "    print(album)\n"
      ],
      "metadata": {
        "colab": {
          "base_uri": "https://localhost:8080/"
        },
        "id": "lwiwW1wMFpr7",
        "outputId": "3d2b3aeb-6de7-49a6-ac53-8ce82869a35a"
      },
      "execution_count": null,
      "outputs": [
        {
          "output_type": "stream",
          "name": "stdout",
          "text": [
            "\n",
            "Enter 'q' at any time to quit.\n",
            "Enter the artist's name: Pink Floyd\n",
            "Enter the album's title: The Wall\n",
            "Enter the number of tracks (optional): 26\n",
            "{'artist': 'Pink Floyd', 'title': 'The Wall', 'tracks': '26'}\n",
            "\n",
            "Enter 'q' at any time to quit.\n"
          ]
        }
      ]
    },
    {
      "cell_type": "code",
      "source": [],
      "metadata": {
        "id": "rCPgv9FkFs86"
      },
      "execution_count": null,
      "outputs": []
    }
  ]
}