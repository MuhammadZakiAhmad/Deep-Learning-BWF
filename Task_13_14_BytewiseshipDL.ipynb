{
  "nbformat": 4,
  "nbformat_minor": 0,
  "metadata": {
    "colab": {
      "provenance": []
    },
    "kernelspec": {
      "name": "python3",
      "display_name": "Python 3"
    },
    "language_info": {
      "name": "python"
    }
  },
  "cells": [
    {
      "cell_type": "markdown",
      "source": [
        "**<h1> <font color='Green'>Task_13 and Task 14</font> </h1>**"
      ],
      "metadata": {
        "id": "p8-jUV0uShBP"
      }
    },
    {
      "cell_type": "code",
      "execution_count": 5,
      "metadata": {
        "colab": {
          "base_uri": "https://localhost:8080/"
        },
        "id": "iAwT6DE-Q6Og",
        "outputId": "a2b1b15a-a459-435b-9df3-2b1065b6d5fa"
      },
      "outputs": [
        {
          "output_type": "stream",
          "name": "stdout",
          "text": [
            "0    1\n",
            "1    3\n",
            "2    5\n",
            "3    7\n",
            "4    9\n",
            "dtype: int64\n"
          ]
        }
      ],
      "source": [
        "import pandas as pd\n",
        "\n",
        "data = [1, 3, 5, 7, 9]\n",
        "s = pd.Series(data)\n",
        "print(s)\n"
      ]
    },
    {
      "cell_type": "code",
      "source": [
        "data = {'name': ['John', 'Emily', 'Sam'], 'age': [25, 28, 21], 'city': ['New York', 'Los Angeles', 'Chicago']}\n",
        "df = pd.DataFrame(data)\n",
        "print(df)"
      ],
      "metadata": {
        "colab": {
          "base_uri": "https://localhost:8080/"
        },
        "id": "Y7Ru9pTeTMCW",
        "outputId": "6038d577-06ed-4f12-dd82-a01d32b5cc00"
      },
      "execution_count": 6,
      "outputs": [
        {
          "output_type": "stream",
          "name": "stdout",
          "text": [
            "    name  age         city\n",
            "0   John   25     New York\n",
            "1  Emily   28  Los Angeles\n",
            "2    Sam   21      Chicago\n"
          ]
        }
      ]
    },
    {
      "cell_type": "code",
      "source": [
        "df= {'ID': [101, 102, 103, 104, 105],\n",
        "        'Name': ['Alice', 'Bob', 'Charlie', 'Dave', 'Eve'],\n",
        "        'Age': [28, 32, 26, 34, 29],\n",
        "        'Salary': [50000, 60000, 45000, 70000, 55000]}\n",
        "\n",
        "df = pd.DataFrame(data)\n",
        "\n",
        "print(df)"
      ],
      "metadata": {
        "colab": {
          "base_uri": "https://localhost:8080/"
        },
        "id": "SlX0qL8wTV7Y",
        "outputId": "822dd8ca-f7e1-43dd-e9d1-5813cdfc6e41"
      },
      "execution_count": 9,
      "outputs": [
        {
          "output_type": "stream",
          "name": "stdout",
          "text": [
            "    ID     Name  Age  Salary\n",
            "0  101    Alice   28   50000\n",
            "1  102      Bob   32   60000\n",
            "2  103  Charlie   26   45000\n",
            "3  104     Dave   34   70000\n",
            "4  105      Eve   29   55000\n"
          ]
        }
      ]
    },
    {
      "cell_type": "code",
      "source": [
        "\n",
        "# Selecting rows with Age > 25\n",
        "df = df[df['Age'] > 25]\n",
        "# Selecting columns ID and Name\n",
        "df = df[['ID', 'Name']]\n",
        "print(df)"
      ],
      "metadata": {
        "colab": {
          "base_uri": "https://localhost:8080/"
        },
        "id": "bXeBVM5BTb63",
        "outputId": "92e76eb1-fc8e-46e5-8cfb-e0f1ae316826"
      },
      "execution_count": 10,
      "outputs": [
        {
          "output_type": "stream",
          "name": "stdout",
          "text": [
            "    ID     Name\n",
            "0  101    Alice\n",
            "1  102      Bob\n",
            "2  103  Charlie\n",
            "3  104     Dave\n",
            "4  105      Eve\n"
          ]
        }
      ]
    },
    {
      "cell_type": "code",
      "source": [
        "# Read data from CSV file\n",
        "data = pd.read_csv('data.csv')\n",
        "\n",
        "# Print first 5 rows of the DataFrame\n",
        "print(data.head())"
      ],
      "metadata": {
        "id": "-rOPqHY4TsGj"
      },
      "execution_count": null,
      "outputs": []
    },
    {
      "cell_type": "code",
      "source": [
        "# Read data from JSON file\n",
        "data = pd.read_json('data.json')\n",
        "\n",
        "# Print first 5 rows of the DataFrame\n",
        "print(data.head())"
      ],
      "metadata": {
        "id": "HhfqOM9faKZp"
      },
      "execution_count": null,
      "outputs": []
    },
    {
      "cell_type": "code",
      "source": [
        "# Read data from Excel file\n",
        "data = pd.read_excel('data.xlsx')\n",
        "\n",
        "# Print first 5 rows of the DataFrame\n",
        "print(data.head())"
      ],
      "metadata": {
        "id": "4LphUIr9aM95"
      },
      "execution_count": null,
      "outputs": []
    },
    {
      "cell_type": "code",
      "source": [
        "import sqlite3\n",
        "\n",
        "# Connect to the database\n",
        "conn = sqlite3.connect('example.db')\n",
        "\n",
        "# Read data from a table\n",
        "data = pd.read_sql('SELECT * FROM table', conn)\n",
        "\n",
        "# Print first 5 rows of the DataFrame\n",
        "print(data.head())\n",
        "\n",
        "# Close the connection\n",
        "conn.close()"
      ],
      "metadata": {
        "id": "0w-MZEYFaPGR"
      },
      "execution_count": null,
      "outputs": []
    }
  ]
}