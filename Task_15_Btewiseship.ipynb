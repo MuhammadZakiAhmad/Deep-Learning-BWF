{
  "nbformat": 4,
  "nbformat_minor": 0,
  "metadata": {
    "colab": {
      "provenance": []
    },
    "kernelspec": {
      "name": "python3",
      "display_name": "Python 3"
    },
    "language_info": {
      "name": "python"
    }
  },
  "cells": [
    {
      "cell_type": "markdown",
      "source": [
        "Submitted By: **Muhammad Zaki Ahmad**"
      ],
      "metadata": {
        "id": "RL60bR4aYy4P"
      }
    },
    {
      "cell_type": "code",
      "execution_count": 7,
      "metadata": {
        "id": "Ejgt4VdXVebo"
      },
      "outputs": [],
      "source": [
        "# import important libraries\n",
        "import numpy as np\n",
        "import pandas as pd\n",
        "\n"
      ]
    },
    {
      "cell_type": "code",
      "source": [
        "# create sample data\n",
        "data = {\n",
        "    'Name': ['Alice', 'Bob', 'Charlie', 'David', 'Emma', 'Frank', 'George', 'Hannah', 'Isaac', 'Jack'],\n",
        "    'Age': [22, 35, 27, np.nan, 30, 24, 25, 19, np.nan, 28],\n",
        "    'Salary': [50000, 60000, np.nan, 55000, 65000, 45000, 40000, 55000, 60000, 50000],\n",
        "    'Gender': ['F', 'M', 'M', 'M', 'F', 'M', 'M', 'F', 'M', 'M']\n",
        "}\n",
        "df = pd.DataFrame(data)"
      ],
      "metadata": {
        "id": "AneHdsouViMh"
      },
      "execution_count": 8,
      "outputs": []
    },
    {
      "cell_type": "code",
      "source": [
        " #Handling Missing Data\n",
        "# count the number of missing values in each column\n",
        "print(df.isnull().sum())"
      ],
      "metadata": {
        "colab": {
          "base_uri": "https://localhost:8080/"
        },
        "id": "xM9kDq7lWCbP",
        "outputId": "e2a5912f-c0cd-41c4-c9ba-798602c6b3c7"
      },
      "execution_count": 10,
      "outputs": [
        {
          "output_type": "stream",
          "name": "stdout",
          "text": [
            "Name      0\n",
            "Age       2\n",
            "Salary    1\n",
            "Gender    0\n",
            "dtype: int64\n"
          ]
        }
      ]
    },
    {
      "cell_type": "code",
      "source": [
        "# Filling and replacing\n",
        "df['Gender'] = df['Gender'].replace({'Male': 'M', 'Female': 'F'})\n"
      ],
      "metadata": {
        "id": "K90H_2YGWZul"
      },
      "execution_count": 6,
      "outputs": []
    },
    {
      "cell_type": "code",
      "source": [
        "# fill missing values with the mean of the column\n",
        "df['Age'] = df['Age'].fillna(df['Age'].mean())\n",
        "df['Salary'] = df['Salary'].fillna(df['Salary'].mean())"
      ],
      "metadata": {
        "id": "qC8fGrTcWboa"
      },
      "execution_count": 11,
      "outputs": []
    },
    {
      "cell_type": "code",
      "source": [
        "# Filling and Replacing Values\n",
        "# replace all occurrences of 'M' with 'Male'\n",
        "df['Gender'] = df['Gender'].replace('M', 'Male')"
      ],
      "metadata": {
        "id": "TjDBm_tOX4mA"
      },
      "execution_count": 12,
      "outputs": []
    },
    {
      "cell_type": "code",
      "source": [
        "# Removing Duplicates\n",
        "# create a duplicate row\n",
        "duplicate_row = pd.DataFrame({\n",
        "    'Name': ['Isaac'],\n",
        "    'Age': [28],\n",
        "    'Salary': [60000],\n",
        "    'Gender': ['Male']\n",
        "})"
      ],
      "metadata": {
        "id": "ZKlE1rziX7or"
      },
      "execution_count": 13,
      "outputs": []
    },
    {
      "cell_type": "code",
      "source": [
        "df = pd.concat([df, duplicate_row], ignore_index=True)"
      ],
      "metadata": {
        "id": "hxyK7Mj5X-6R"
      },
      "execution_count": 14,
      "outputs": []
    },
    {
      "cell_type": "code",
      "source": [
        "# drop duplicate rows\n",
        "df = df.drop_duplicates()"
      ],
      "metadata": {
        "id": "4vOEu_-kYA9G"
      },
      "execution_count": 15,
      "outputs": []
    },
    {
      "cell_type": "code",
      "source": [
        "# Detecting and Removing Outliers\n",
        "# identify outliers in the 'Salary' column using the Z-score method\n",
        "z_scores = np.abs((df['Salary'] - df['Salary'].mean()) / df['Salary'].std())\n",
        "outliers = df[z_scores > 3]\n",
        "\n",
        "# remove outliers\n",
        "df = df[z_scores <= 3]\n",
        "\n"
      ],
      "metadata": {
        "id": "fGs5GNouYEbI"
      },
      "execution_count": 17,
      "outputs": []
    },
    {
      "cell_type": "code",
      "source": [],
      "metadata": {
        "id": "RUPQ9hWyYGxQ"
      },
      "execution_count": null,
      "outputs": []
    }
  ]
}