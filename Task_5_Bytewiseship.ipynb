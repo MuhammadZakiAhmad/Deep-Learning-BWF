{
  "nbformat": 4,
  "nbformat_minor": 0,
  "metadata": {
    "colab": {
      "provenance": []
    },
    "kernelspec": {
      "name": "python3",
      "display_name": "Python 3"
    },
    "language_info": {
      "name": "python"
    }
  },
  "cells": [
    {
      "cell_type": "markdown",
      "source": [
        "<h1> <font color=green>Deep Learning Bytewiseship</font> </h1>"
      ],
      "metadata": {
        "id": "1aHHrYXc_Vsf"
      }
    },
    {
      "cell_type": "markdown",
      "source": [
        "<h2> <font color=green>Task 5</font> </h2>"
      ],
      "metadata": {
        "id": "uKzm-1Dd_NUT"
      }
    },
    {
      "cell_type": "code",
      "source": [
        "import time\n",
        "\n",
        "# Using enumerate() function\n",
        "fruits = ['apple', 'banana', 'cherry']\n",
        "for index, fruit in enumerate(fruits):\n",
        "    print(index, fruit)"
      ],
      "metadata": {
        "colab": {
          "base_uri": "https://localhost:8080/"
        },
        "id": "ydYWwAnC_UYV",
        "outputId": "c3021d49-92b0-4b66-e96b-75f98938801f"
      },
      "execution_count": 8,
      "outputs": [
        {
          "output_type": "stream",
          "name": "stdout",
          "text": [
            "0 apple\n",
            "1 banana\n",
            "2 cherry\n"
          ]
        }
      ]
    },
    {
      "cell_type": "code",
      "source": [
        "# Timing code\n",
        "start_time = time.time()\n",
        "# Code to time goes here\n",
        "end_time = time.time()\n",
        "print(\"Time elapsed:\", end_time - start_time)"
      ],
      "metadata": {
        "colab": {
          "base_uri": "https://localhost:8080/"
        },
        "id": "NPR3C09a_kQ7",
        "outputId": "96773a27-7f20-4e2c-85ff-2eedfe6ee4da"
      },
      "execution_count": 9,
      "outputs": [
        {
          "output_type": "stream",
          "name": "stdout",
          "text": [
            "Time elapsed: 2.956390380859375e-05\n"
          ]
        }
      ]
    },
    {
      "cell_type": "code",
      "source": [
        "# User inputs and conditionals\n",
        "age = int(input(\"Enter your age: \"))\n",
        "if age >= 18:\n",
        "    print(\"You are an adult\")\n",
        "else:\n",
        "    print(\"You are not an adult\")"
      ],
      "metadata": {
        "colab": {
          "base_uri": "https://localhost:8080/"
        },
        "id": "wo857Vgk_nlB",
        "outputId": "7f0058d4-71f3-4c7a-8c02-187c9cee803c"
      },
      "execution_count": 10,
      "outputs": [
        {
          "output_type": "stream",
          "name": "stdout",
          "text": [
            "Enter your age: 21\n",
            "You are an adult\n"
          ]
        }
      ]
    },
    {
      "cell_type": "code",
      "source": [
        "# Sets and set operations\n",
        "set1 = {1, 2, 3}\n",
        "set2 = {2, 3, 4}\n",
        "union_set = set1.union(set2)\n",
        "intersection_set = set1.intersection(set2)\n",
        "difference_set = set1.difference(set2)\n",
        "symmetric_difference_set = set1.symmetric_difference(set2)\n",
        "print(\"Union set:\", union_set)\n",
        "print(\"Intersection set:\", intersection_set)\n",
        "print(\"Difference set:\", difference_set)\n",
        "print(\"Symmetric difference set:\", symmetric_difference_set)"
      ],
      "metadata": {
        "colab": {
          "base_uri": "https://localhost:8080/"
        },
        "id": "0-robxm7_qBW",
        "outputId": "45253120-e3e4-4eb8-cc1b-e4ef88770a4a"
      },
      "execution_count": 11,
      "outputs": [
        {
          "output_type": "stream",
          "name": "stdout",
          "text": [
            "Union set: {1, 2, 3, 4}\n",
            "Intersection set: {2, 3}\n",
            "Difference set: {1}\n",
            "Symmetric difference set: {1, 4}\n"
          ]
        }
      ]
    },
    {
      "cell_type": "code",
      "source": [
        "# Making data unique with sets\n",
        "list_with_duplicates = [1, 2, 3, 2, 4, 1, 5]\n",
        "unique_set = set(list_with_duplicates)\n",
        "list_without_duplicates = list(unique_set)\n",
        "print(\"List with duplicates:\", list_with_duplicates)\n",
        "print(\"List without duplicates:\", list_without_duplicates)"
      ],
      "metadata": {
        "colab": {
          "base_uri": "https://localhost:8080/"
        },
        "id": "rY3S9vZuAziW",
        "outputId": "0cd308c2-4d14-4cfe-c044-ffc4c3133c10"
      },
      "execution_count": 12,
      "outputs": [
        {
          "output_type": "stream",
          "name": "stdout",
          "text": [
            "List with duplicates: [1, 2, 3, 2, 4, 1, 5]\n",
            "List without duplicates: [1, 2, 3, 4, 5]\n"
          ]
        }
      ]
    },
    {
      "cell_type": "code",
      "source": [],
      "metadata": {
        "id": "YTEqMFcrA23g"
      },
      "execution_count": null,
      "outputs": []
    }
  ]
}