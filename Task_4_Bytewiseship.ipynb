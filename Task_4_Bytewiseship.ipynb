{
  "nbformat": 4,
  "nbformat_minor": 0,
  "metadata": {
    "colab": {
      "provenance": []
    },
    "kernelspec": {
      "name": "python3",
      "display_name": "Python 3"
    },
    "language_info": {
      "name": "python"
    }
  },
  "cells": [
    {
      "cell_type": "markdown",
      "source": [
        "<h1> <font color=green>Deep Learning Bytewiseship</font> </h1>"
      ],
      "metadata": {
        "id": "1aHHrYXc_Vsf"
      }
    },
    {
      "cell_type": "markdown",
      "source": [
        "<h2> <font color=green>Task 4</font> </h2>"
      ],
      "metadata": {
        "id": "uKzm-1Dd_NUT"
      }
    },
    {
      "cell_type": "code",
      "source": [
        "names = [\"Alice\", \"Bob\", \"Charlie\"]\n",
        "print(names[0])\n",
        "print(names[1])\n",
        "print(names[2])\n"
      ],
      "metadata": {
        "colab": {
          "base_uri": "https://localhost:8080/"
        },
        "id": "ydYWwAnC_UYV",
        "outputId": "644a4796-dcff-49b6-bf58-f72de606ba9e"
      },
      "execution_count": 1,
      "outputs": [
        {
          "output_type": "stream",
          "name": "stdout",
          "text": [
            "Alice\n",
            "Bob\n",
            "Charlie\n"
          ]
        }
      ]
    },
    {
      "cell_type": "code",
      "source": [
        "names = [\"Alice\", \"Bob\", \"Charlie\"]\n",
        "message = \"Hello, \"\n",
        "print(message + names[0] + \"!\")\n",
        "print(message + names[1] + \"!\")\n",
        "print(message + names[2] + \"!\")"
      ],
      "metadata": {
        "colab": {
          "base_uri": "https://localhost:8080/"
        },
        "id": "NPR3C09a_kQ7",
        "outputId": "9ce50681-d286-4de2-a3d8-3c031b4c346c"
      },
      "execution_count": 2,
      "outputs": [
        {
          "output_type": "stream",
          "name": "stdout",
          "text": [
            "Hello, Alice!\n",
            "Hello, Bob!\n",
            "Hello, Charlie!\n"
          ]
        }
      ]
    },
    {
      "cell_type": "code",
      "source": [
        "transportation = [\"motorcycle\", \"car\", \"bicycle\"]\n",
        "print(\"I would like to own a \" + transportation[0] + \".\")\n",
        "print(\"I currently own a \" + transportation[1] + \".\")\n",
        "print(\"I like to ride my \" + transportation[2] + \" to work.\")\n"
      ],
      "metadata": {
        "colab": {
          "base_uri": "https://localhost:8080/"
        },
        "id": "wo857Vgk_nlB",
        "outputId": "9c3da6b4-6a91-45b8-e708-cf676dbef16d"
      },
      "execution_count": 3,
      "outputs": [
        {
          "output_type": "stream",
          "name": "stdout",
          "text": [
            "I would like to own a motorcycle.\n",
            "I currently own a car.\n",
            "I like to ride my bicycle to work.\n"
          ]
        }
      ]
    },
    {
      "cell_type": "code",
      "source": [
        "guest_list = ['Albert Einstein', 'Maya Angelou', 'MA Jinnah']\n",
        "\n",
        "print(\"Dear \" + guest_list[0] + \",\\nI would be honored if you could join me for dinner.\")\n",
        "print(\"Dear \" + guest_list[1] + \",\\nI would be honored if you could join me for dinner.\")\n",
        "print(\"Dear \" + guest_list[2] + \",\\nI would be honored if you could join me for dinner.\")"
      ],
      "metadata": {
        "colab": {
          "base_uri": "https://localhost:8080/"
        },
        "id": "0-robxm7_qBW",
        "outputId": "97063886-8151-4e8f-fe6d-25099ce07777"
      },
      "execution_count": 6,
      "outputs": [
        {
          "output_type": "stream",
          "name": "stdout",
          "text": [
            "Dear Albert Einstein,\n",
            "I would be honored if you could join me for dinner.\n",
            "Dear Maya Angelou,\n",
            "I would be honored if you could join me for dinner.\n",
            "Dear MA Jinnah,\n",
            "I would be honored if you could join me for dinner.\n"
          ]
        }
      ]
    },
    {
      "cell_type": "code",
      "source": [
        "guest_cant_make_it = 'MA Jinnah'\n",
        "print(\"\\nUnfortunately, \" + guest_cant_make_it + \" can't make it to dinner.\\n\")\n",
        "\n",
        "guest_list.remove(guest_cant_make_it)\n",
        "guest_list.append('Nelson Mandela')\n",
        "\n",
        "print(\"Dear \" + guest_list[0] + \",\\nI would be honored if you could join me for dinner.\")\n",
        "print(\"Dear \" + guest_list[1] + \",\\nI would be honored if you could join me for dinner.\")\n",
        "print(\"Dear \" + guest_list[2] + \",\\nI would be honored if you could join me for dinner.\")"
      ],
      "metadata": {
        "colab": {
          "base_uri": "https://localhost:8080/"
        },
        "id": "rY3S9vZuAziW",
        "outputId": "8b41ab1f-368c-477f-fc19-077de1a26abf"
      },
      "execution_count": 7,
      "outputs": [
        {
          "output_type": "stream",
          "name": "stdout",
          "text": [
            "\n",
            "Unfortunately, MA Jinnah can't make it to dinner.\n",
            "\n",
            "Dear Albert Einstein,\n",
            "I would be honored if you could join me for dinner.\n",
            "Dear Maya Angelou,\n",
            "I would be honored if you could join me for dinner.\n",
            "Dear Nelson Mandela,\n",
            "I would be honored if you could join me for dinner.\n"
          ]
        }
      ]
    },
    {
      "cell_type": "code",
      "source": [],
      "metadata": {
        "id": "YTEqMFcrA23g"
      },
      "execution_count": null,
      "outputs": []
    }
  ]
}