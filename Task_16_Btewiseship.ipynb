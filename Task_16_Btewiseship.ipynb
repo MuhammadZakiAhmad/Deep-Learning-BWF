{
  "nbformat": 4,
  "nbformat_minor": 0,
  "metadata": {
    "colab": {
      "provenance": []
    },
    "kernelspec": {
      "name": "python3",
      "display_name": "Python 3"
    },
    "language_info": {
      "name": "python"
    }
  },
  "cells": [
    {
      "cell_type": "markdown",
      "source": [
        "Submitted By: **Muhammad Zaki Ahmad**"
      ],
      "metadata": {
        "id": "RL60bR4aYy4P"
      }
    },
    {
      "cell_type": "code",
      "execution_count": 18,
      "metadata": {
        "id": "Ejgt4VdXVebo"
      },
      "outputs": [],
      "source": [
        "# import important libraries\n",
        "import numpy as np\n",
        "import pandas as pd\n",
        "\n"
      ]
    },
    {
      "cell_type": "code",
      "source": [
        "# create sample data\n",
        "sales_data = {\n",
        "    'Region': ['North', 'South', 'East', 'West'],\n",
        "    'Sales': [100000, 150000, 200000, 120000]\n",
        "}\n",
        "sales_df = pd.DataFrame(sales_data)\n",
        "\n",
        "customer_data = {\n",
        "    'Region': ['North', 'South', 'East', 'West', 'North', 'East'],\n",
        "    'Customer': ['A', 'B', 'C', 'D', 'E', 'F']\n",
        "}\n",
        "customer_df = pd.DataFrame(customer_data)\n"
      ],
      "metadata": {
        "id": "AneHdsouViMh"
      },
      "execution_count": 19,
      "outputs": []
    },
    {
      "cell_type": "code",
      "source": [
        "# Combining and Merging Datasets\n",
        "# merge the two dataframes on the 'Region' column\n",
        "merged_df = pd.merge(sales_df, customer_df, on='Region')\n",
        "\n",
        "print(merged_df)"
      ],
      "metadata": {
        "colab": {
          "base_uri": "https://localhost:8080/"
        },
        "id": "xM9kDq7lWCbP",
        "outputId": "72da400d-5468-4325-b385-bfd1f1d00d00"
      },
      "execution_count": 20,
      "outputs": [
        {
          "output_type": "stream",
          "name": "stdout",
          "text": [
            "  Region   Sales Customer\n",
            "0  North  100000        A\n",
            "1  North  100000        E\n",
            "2  South  150000        B\n",
            "3   East  200000        C\n",
            "4   East  200000        F\n",
            "5   West  120000        D\n"
          ]
        }
      ]
    },
    {
      "cell_type": "code",
      "source": [
        "# Reshaping Data\n",
        "# reshape the data to show the total sales for each customer\n",
        "pivoted_df = merged_df.pivot(index='Customer', columns='Region', values='Sales')\n",
        "pivoted_df['Total'] = pivoted_df.sum(axis=1)\n",
        "\n",
        "print(pivoted_df)\n"
      ],
      "metadata": {
        "colab": {
          "base_uri": "https://localhost:8080/"
        },
        "id": "K90H_2YGWZul",
        "outputId": "d7345568-b66a-4fcd-eaad-7625936ed2dc"
      },
      "execution_count": 21,
      "outputs": [
        {
          "output_type": "stream",
          "name": "stdout",
          "text": [
            "Region        East     North     South      West     Total\n",
            "Customer                                                  \n",
            "A              NaN  100000.0       NaN       NaN  100000.0\n",
            "B              NaN       NaN  150000.0       NaN  150000.0\n",
            "C         200000.0       NaN       NaN       NaN  200000.0\n",
            "D              NaN       NaN       NaN  120000.0  120000.0\n",
            "E              NaN  100000.0       NaN       NaN  100000.0\n",
            "F         200000.0       NaN       NaN       NaN  200000.0\n"
          ]
        }
      ]
    },
    {
      "cell_type": "code",
      "source": [],
      "metadata": {
        "id": "qC8fGrTcWboa"
      },
      "execution_count": 11,
      "outputs": []
    },
    {
      "cell_type": "code",
      "source": [],
      "metadata": {
        "id": "TjDBm_tOX4mA"
      },
      "execution_count": 12,
      "outputs": []
    },
    {
      "cell_type": "code",
      "source": [],
      "metadata": {
        "id": "ZKlE1rziX7or"
      },
      "execution_count": 13,
      "outputs": []
    },
    {
      "cell_type": "code",
      "source": [],
      "metadata": {
        "id": "hxyK7Mj5X-6R"
      },
      "execution_count": 14,
      "outputs": []
    },
    {
      "cell_type": "code",
      "source": [],
      "metadata": {
        "id": "4vOEu_-kYA9G"
      },
      "execution_count": 15,
      "outputs": []
    },
    {
      "cell_type": "code",
      "source": [],
      "metadata": {
        "id": "fGs5GNouYEbI"
      },
      "execution_count": 17,
      "outputs": []
    },
    {
      "cell_type": "code",
      "source": [],
      "metadata": {
        "id": "RUPQ9hWyYGxQ"
      },
      "execution_count": null,
      "outputs": []
    }
  ]
}